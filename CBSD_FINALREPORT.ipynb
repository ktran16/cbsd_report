{
 "cells": [
  {
   "cell_type": "markdown",
   "metadata": {},
   "source": [
    "# FINAL REPORT\n",
    "#### Cognitive, Behavioural and Social Data \n",
    "##### Group A: Sandra Andovska, Stefano Della Morte, Danail Krzhalovski, Khoa Tran, Marco Tronu\n",
    "This is the final report for the Cognitive, Behavioural and Social Data Twitter project"
   ]
  },
  {
   "cell_type": "markdown",
   "metadata": {},
   "source": [
    "0.1 Authors: \n",
    ">Sandra Andovska\n",
    "<br>\n",
    ">Stefano Della Morte\n",
    "<br>\n",
    "> Danail Krzhalovski\n",
    "<br>\n",
    "> Marco Tronu\n",
    "<br>\n",
    "> Khoa Tran\n",
    "\n",
    "0.2 Outline of the report:\n",
    ">Introduction\n",
    "<br>\n",
    ">Presentation of the dataset\n",
    "<br>\n",
    ">Presentation of data analysis methodology\n",
    "<br>\n",
    ">Results and conclusion"
   ]
  },
  {
   "cell_type": "markdown",
   "metadata": {},
   "source": [
    "## 1 INTRODUCTION"
   ]
  },
  {
   "cell_type": "markdown",
   "metadata": {},
   "source": [
    "### 1.1 Abstract\n",
    "\n",
    "<br>\n",
    "\n",
    "<div style=\"text-align: justify\"> \n",
    "In recent years, analyzing data acquired from social networks platform to predict and understand more about human cognition, behaviors and orientation has been a rising trend. Social media has changed not only the way we passively receive information but also how we express our personal opinions about everyday issues. That is the reason why Facebook, Twitter, Youtube and other social networks have become valuable sources of data that can be beneficial for many areas. Automatic political orientation prediction from social media posts has been proven successful in distinguishing between liberals and conservatives in the US. In this project, we will try to do political orientation prediction on Italian language and Italian political landscape.\n",
    "<br>\n",
    "    \n",
    "As mentioned previously, there are many social media platforms that can be taken benefits from. But in this small project, we use Twitter instead of Facebook and Instagram, since they have special restricted community policies that do not allow some contents to be public. Also, Twitter has an API and allows developer account to access and download data from it.\n",
    "<br>\n",
    "    \n",
    "The aim is to investigate whether it is possible to predict users’ political orientation from Twitter data. More precisely, we had the task of predicting the political orientation of an Italian Twitter account chosen at random, using different machine learning models. \n",
    "</div>"
   ]
  },
  {
   "cell_type": "markdown",
   "metadata": {},
   "source": [
    "### 1.2 Aim of the analysis\n",
    "<br>\n",
    "\n",
    "<div style=\"text-align: justify\"> \n",
    "The project consists of two main phases:\n",
    "<br>\n",
    "    \n",
    "1. We begin by crawling random Italian Twitter accounts (total 1000) and start labeling their favorite political parties (Lega, Partito Democratico, Fratelli d’Italia, Movimento 5 Stelle and Forza Italia) by going through their accounts. We do this 5 different times by 5 different group members, then calculating the marked party frequency for each account.\n",
    "2. In the second phase, we crawl all the tweets associated with those accounts. Data of classified Twitter accounts and tweet contents from different groups will be combined into one big dataset. Then we fix a threshold for political party labeling on each account then merge the newly downloaded data with the labeled account data from phase 1. The purpose of this phase is to train and test different classification models on the tweet contents to predict the political orientation “right vs left”. Lega, Fratelli d’Italia, and Forza Italia are considered as right wing while Partito Democratico is left wing. After training and testing the classification models, we will use them on the labeled data of Movimento 5 Stelle to see how they classify these accounts to “right” or “left”, since this party is controversial and difficult to classify left or right even for humans.\n",
    "<br>\n",
    "\n",
    "In the analysis and classification phase, we follow the following agenda:\n",
    "* Doing an initial exploratory data analysis (EDA) to have an overview of the dataset\n",
    "* Fixing a threshold to set the “final” orientation of each user. Merging labeled account data and tweets data and doing preprocessing on the merged data.\n",
    "* Removing stop words and vectorizing tweets. Applying some classification models such as Random Forest, SGD Classifier, Naive Bayes, Xgboost, etc. Then using some techniques such as grid search and and some metrics such as accuracy score, confusion matrix and classification report of sklearn library to choose the optimal models and tuned parameters.\n",
    "* Applying the model to M5S data to see the results. However, the data of M5S party is probably biased and unusable since there is one group who labeled around 80% of their users as M5S and the remaining 20% as Partito Democratico.\n",
    "</div>\n",
    "\n",
    "### 1.3 Initial Statistics\n",
    "<br>\n",
    "\n",
    "<div style=\"text-align: justify\"> \n",
    "Before delving into the huge dataset that was generated from all of the groups, we decided to do some initial statistics analysis on the dataset that our group gathered. As shown in the code snippets bellow we gained insights on user twitter activity, user vocabulary and time period usage analysis.\n",
    "<br>"
   ]
  },
  {
   "cell_type": "code",
   "execution_count": 3,
   "metadata": {},
   "outputs": [
    {
     "data": {
      "text/html": [
       "<div>\n",
       "<style scoped>\n",
       "    .dataframe tbody tr th:only-of-type {\n",
       "        vertical-align: middle;\n",
       "    }\n",
       "\n",
       "    .dataframe tbody tr th {\n",
       "        vertical-align: top;\n",
       "    }\n",
       "\n",
       "    .dataframe thead th {\n",
       "        text-align: right;\n",
       "    }\n",
       "</style>\n",
       "<table border=\"1\" class=\"dataframe\">\n",
       "  <thead>\n",
       "    <tr style=\"text-align: right;\">\n",
       "      <th></th>\n",
       "      <th>id</th>\n",
       "      <th>favorites</th>\n",
       "      <th>retweets</th>\n",
       "      <th>source</th>\n",
       "      <th>full_text</th>\n",
       "      <th>username</th>\n",
       "    </tr>\n",
       "    <tr>\n",
       "      <th>created_at</th>\n",
       "      <th></th>\n",
       "      <th></th>\n",
       "      <th></th>\n",
       "      <th></th>\n",
       "      <th></th>\n",
       "      <th></th>\n",
       "    </tr>\n",
       "  </thead>\n",
       "  <tbody>\n",
       "    <tr>\n",
       "      <th>2019-10-11 05:02:41</th>\n",
       "      <td>1182521882895106049</td>\n",
       "      <td>0</td>\n",
       "      <td>846</td>\n",
       "      <td>Twitter for Android</td>\n",
       "      <td>RT @PaoloGentiloni: I #curdi siriani hanno com...</td>\n",
       "      <td>nicolalicci1</td>\n",
       "    </tr>\n",
       "    <tr>\n",
       "      <th>2019-10-11 04:58:31</th>\n",
       "      <td>1182520831643209728</td>\n",
       "      <td>0</td>\n",
       "      <td>557</td>\n",
       "      <td>Twitter for Android</td>\n",
       "      <td>RT @nzingaretti: L’azione militare unilaterale...</td>\n",
       "      <td>nicolalicci1</td>\n",
       "    </tr>\n",
       "    <tr>\n",
       "      <th>2019-10-11 04:56:43</th>\n",
       "      <td>1182520380717780992</td>\n",
       "      <td>0</td>\n",
       "      <td>0</td>\n",
       "      <td>Twitter for Android</td>\n",
       "      <td>@PierMaran Mah, è sempre stato un obiettivo de...</td>\n",
       "      <td>nicolalicci1</td>\n",
       "    </tr>\n",
       "    <tr>\n",
       "      <th>2019-10-11 04:46:17</th>\n",
       "      <td>1182517755783897088</td>\n",
       "      <td>0</td>\n",
       "      <td>247</td>\n",
       "      <td>Twitter for Android</td>\n",
       "      <td>RT @LaNotiziaTweet: La #Raggi aveva ragione, c...</td>\n",
       "      <td>nicolalicci1</td>\n",
       "    </tr>\n",
       "    <tr>\n",
       "      <th>2019-10-10 12:20:30</th>\n",
       "      <td>1182269672139493382</td>\n",
       "      <td>0</td>\n",
       "      <td>0</td>\n",
       "      <td>Twitter for Android</td>\n",
       "      <td>@virginiaraggi @matteosalvinimi Chi si lamenta...</td>\n",
       "      <td>nicolalicci1</td>\n",
       "    </tr>\n",
       "  </tbody>\n",
       "</table>\n",
       "</div>"
      ],
      "text/plain": [
       "                                      id  favorites  retweets  \\\n",
       "created_at                                                      \n",
       "2019-10-11 05:02:41  1182521882895106049          0       846   \n",
       "2019-10-11 04:58:31  1182520831643209728          0       557   \n",
       "2019-10-11 04:56:43  1182520380717780992          0         0   \n",
       "2019-10-11 04:46:17  1182517755783897088          0       247   \n",
       "2019-10-10 12:20:30  1182269672139493382          0         0   \n",
       "\n",
       "                                  source  \\\n",
       "created_at                                 \n",
       "2019-10-11 05:02:41  Twitter for Android   \n",
       "2019-10-11 04:58:31  Twitter for Android   \n",
       "2019-10-11 04:56:43  Twitter for Android   \n",
       "2019-10-11 04:46:17  Twitter for Android   \n",
       "2019-10-10 12:20:30  Twitter for Android   \n",
       "\n",
       "                                                             full_text  \\\n",
       "created_at                                                               \n",
       "2019-10-11 05:02:41  RT @PaoloGentiloni: I #curdi siriani hanno com...   \n",
       "2019-10-11 04:58:31  RT @nzingaretti: L’azione militare unilaterale...   \n",
       "2019-10-11 04:56:43  @PierMaran Mah, è sempre stato un obiettivo de...   \n",
       "2019-10-11 04:46:17  RT @LaNotiziaTweet: La #Raggi aveva ragione, c...   \n",
       "2019-10-10 12:20:30  @virginiaraggi @matteosalvinimi Chi si lamenta...   \n",
       "\n",
       "                         username  \n",
       "created_at                         \n",
       "2019-10-11 05:02:41  nicolalicci1  \n",
       "2019-10-11 04:58:31  nicolalicci1  \n",
       "2019-10-11 04:56:43  nicolalicci1  \n",
       "2019-10-11 04:46:17  nicolalicci1  \n",
       "2019-10-10 12:20:30  nicolalicci1  "
      ]
     },
     "execution_count": 3,
     "metadata": {},
     "output_type": "execute_result"
    }
   ],
   "source": [
    "import pandas as pd\n",
    "\n",
    "types = {\n",
    "    'created_at': 'str', \n",
    "    'id': 'str',\n",
    "    'favorites': 'int32',\n",
    "    'retweets': 'int32',\n",
    "    'source': 'str',\n",
    "    'full_text': 'str',\n",
    "    'username': 'str'\n",
    "}\n",
    "\n",
    "combined = pd.read_csv('group_tweets.csv', parse_dates=True, index_col='created_at', dtype=types)\n",
    "combined.head()"
   ]
  },
  {
   "cell_type": "markdown",
   "metadata": {},
   "source": [
    "<div style=\"text-align: justify\"> \n",
    "We started by doing some initial exploration, starting with number of tweets per day.\n",
    "Even with the first plot there seems to be an interesting pattern. Jumps at 2014, 2015 can be attributed most likely to New Year Tweets"
   ]
  },
  {
   "cell_type": "code",
   "execution_count": 6,
   "metadata": {},
   "outputs": [],
   "source": [
    "import matplotlib.pyplot as plt\n",
    "from pandas.plotting import register_matplotlib_converters\n",
    "\n",
    "register_matplotlib_converters()\n",
    "%matplotlib inline"
   ]
  },
  {
   "cell_type": "code",
   "execution_count": 7,
   "metadata": {},
   "outputs": [
    {
     "data": {
      "text/plain": [
       "[<matplotlib.lines.Line2D at 0x7f0736b74b10>]"
      ]
     },
     "execution_count": 7,
     "metadata": {},
     "output_type": "execute_result"
    },
    {
     "data": {
      "image/png": "[encoded data removed]",
      "text/plain": [
       "<Figure size 432x288 with 1 Axes>"
      ]
     },
     "metadata": {
      "needs_background": "light"
     },
     "output_type": "display_data"
    }
   ],
   "source": [
    "fig, ax = plt.subplots()\n",
    "ax.plot(combined.resample('D').count().loc[:, 'id'], marker='.', linestyle='None', label='Daily Number of tweets')"
   ]
  },
  {
   "cell_type": "markdown",
   "metadata": {},
   "source": [
    "Further Inspection is needed to see the pattern emerging in the second part of 2019"
   ]
  },
  {
   "cell_type": "code",
   "execution_count": 8,
   "metadata": {},
   "outputs": [
    {
     "data": {
      "text/plain": [
       "[<matplotlib.lines.Line2D at 0x7f07366931d0>]"
      ]
     },
     "execution_count": 8,
     "metadata": {},
     "output_type": "execute_result"
    },
    {
     "data": {
      "image/png": "[encoded data removed]",
      "text/plain": [
       "<Figure size 432x288 with 1 Axes>"
      ]
     },
     "metadata": {
      "needs_background": "light"
     },
     "output_type": "display_data"
    }
   ],
   "source": [
    "explore_2019 = combined.loc['2019-05-1':, :]\n",
    "\n",
    "fig, ax = plt.subplots()\n",
    "plt.xticks(rotation=70)\n",
    "ax.plot(explore_2019.resample('D').count().loc[:, 'id'], marker='.', linestyle='-')"
   ]
  },
  {
   "cell_type": "markdown",
   "metadata": {},
   "source": [
    "<div style=\"text-align: justify\"> \n",
    "The plot clearly shows an almost exponential growth of number of tweets starting somewhere in the middle of August. A hypothesis can be stated that this increase might be caused by the political crisis occurcing in Italy during this period, given that twitter is known for beeing a place to express political opinion with a safe, anonymous profile.\n",
    "<br><br>\n",
    "In the following plots, we explored the length of the time periods in which the users were active on the site. More concretely, we computed the time difference between the first and last post of each user to determine what is the average time that a user is active on the site"
   ]
  },
  {
   "cell_type": "code",
   "execution_count": 20,
   "metadata": {},
   "outputs": [
    {
     "data": {
      "image/png": "[encoded data removed]",
      "text/plain": [
       "<Figure size 432x288 with 1 Axes>"
      ]
     },
     "metadata": {
      "needs_background": "light"
     },
     "output_type": "display_data"
    },
    {
     "data": {
      "image/png": "[encoded data removed]",
      "text/plain": [
       "<Figure size 432x288 with 1 Axes>"
      ]
     },
     "metadata": {
      "needs_background": "light"
     },
     "output_type": "display_data"
    }
   ],
   "source": [
    "import numpy as np\n",
    "\n",
    "def get_days_active(row):\n",
    "    time = row['first'] - row['last']\n",
    "    return time.days\n",
    "\n",
    "user_activity = combined.reset_index().groupby('username')['created_at'].agg(['last', 'first'])\n",
    "user_activity['days_active'] = user_activity.apply(get_days_active, axis=1)\n",
    "\n",
    "ax = user_activity['days_active'].plot(kind='hist', x='Number of days', y='Number of users', \n",
    "                                  bins=list(np.concatenate((np.arange(0,101,10), np.arange(101, 1001, 50))))\n",
    "                                 )\n",
    "ax.set_xlabel('Number of days')\n",
    "ax.set_ylabel('Number of users')\n",
    "\n",
    "plt.subplots()\n",
    "ax = user_activity['days_active'].plot(kind='hist',\n",
    "                                  bins=list(np.arange(500,5000,100))\n",
    "                                 )\n",
    "ax.set_xlabel('Number of days')\n",
    "ax.set_ylabel('Number of users')\n",
    "None"
   ]
  },
  {
   "cell_type": "markdown",
   "metadata": {},
   "source": [
    "As a last step before we started working on the entire dataset, we investigated the textual aspect of our data and tried to find interesting details within it."
   ]
  },
  {
   "cell_type": "code",
   "execution_count": 21,
   "metadata": {},
   "outputs": [
    {
     "name": "stdout",
     "output_type": "stream",
     "text": [
      "Number of words used: 8984154\n",
      "Number of unique words: 1024309\n"
     ]
    }
   ],
   "source": [
    "lens = [len(x.split(' ')) for x in combined['full_text']]\n",
    "corpus = {word: 0 for sentence in combined['full_text'] for word in sentence.lower().split(' ')}\n",
    "\n",
    "print(f'Number of words used: {sum(lens)}\\nNumber of unique words: {len(corpus)}')"
   ]
  },
  {
   "cell_type": "code",
   "execution_count": 22,
   "metadata": {},
   "outputs": [],
   "source": [
    "for tweet in combined['full_text']:\n",
    "    for word in tweet.lower().split(' '):\n",
    "        corpus[word]+=1"
   ]
  },
  {
   "cell_type": "code",
   "execution_count": 24,
   "metadata": {},
   "outputs": [
    {
     "data": {
      "text/plain": [
       "['gli',\n",
       " 'con',\n",
       " 'delle',\n",
       " 'non',\n",
       " '@matteosalvinimi',\n",
       " 'chi',\n",
       " 'si',\n",
       " 'anni',\n",
       " 'ci',\n",
       " 'sono']"
      ]
     },
     "execution_count": 24,
     "metadata": {},
     "output_type": "execute_result"
    }
   ],
   "source": [
    "most_used_words = [word for (word, count) in corpus.items() if count>5000]\n",
    "most_used_words[25:35]"
   ]
  },
  {
   "cell_type": "markdown",
   "metadata": {},
   "source": [
    "<div style=\"text-align: justify\"> \n",
    "And this is a wonderful result to get before delving deeper into the data analysis and modeling. As we observed in the previous cell, @matteosalvinimi is the 30th most used \"word\" in our dataset. Given the fact that we have a task to determine political affiliation from these tweets this is a motivating observation."
   ]
  },
  {
   "cell_type": "markdown",
   "metadata": {},
   "source": [
    "## 2 DATA COLLECTION AND PREPARATION"
   ]
  },
  {
   "cell_type": "markdown",
   "metadata": {},
   "source": [
    "<div style=\"text-align: justify\"> \n",
    "As already mentioned, our aim is to predict the political orientation of an Italian Twitter account chosen at random, using different machine learning models. For collecting the data, we used “Tweepy” – a Python library for accessing the Twitter API. This way, we were able to get 8000+ Italian Twitter Accounts, as well as their tweets.\n",
    "<br>\n",
    "\n",
    "<div style=\"text-align: justify\"> \n",
    "Political orientation was defined as a categorical variable where each category (numbers from 1-5) corresponds to a political party: \n",
    "    \n",
    "1. Lega (@LegaSalvini)\n",
    "2. Partito Democratico (@pdnetwork)\n",
    "3. Fratelli d’Italia (@Fratelliditalia)\n",
    "4. Movimento 5 Stelle (@Mov5Stelle)\n",
    "5. Forza Italia (@forza_italia)\n",
    "<br>\n",
    "\n",
    "<div style=\"text-align: justify\"> \n",
    "Random Italian Twitter accounts were gathered and their sex, political orientation according to the categorical variables defined earlier, and other information found relevant were labeled. This was done by going through the user’s account and reading their tweets. After reading enough tweets, all members decided on the sex of the user, while each one separately labeled the user. Subsequently, we calculated and marked the political party preference frequency for each account. From the data collected, we were able to see that 4 accounts had already been either deleted or suspended. 588 of the users were male (noted with “M” in the sex column of the dataset), 228 were female (“F” in the sex column of the dataset) and we could not decide the gender on 170 users (“U” in the sex column of the dataset). With a 100% certainty, we identified 180 supporters of Lega, 183 of Partito Democratico, 87 of Fratelli d’Italia, 87 of Movimento 5 Stelle, and 25 of Forza Italia. We were not able to identify the political orientation of 316 users. \n",
    "\n",
    "</div>"
   ]
  },
  {
   "cell_type": "markdown",
   "metadata": {},
   "source": [
    "<div style=\"text-align: justify\"> \n",
    "The second phase consisted of crawling all the tweets associated with the collected Twitter accounts. Our initial data was merged with data from the other groups and combined into one big dataset that includes 7889 users, of which 2572 could not be identified with a political party. 4710 users of the dataset are male (noted with “M” in the sex column of the dataset), 2077 are female (“F” in the sex column of the dataset), while the sex of the other users is unidentified (“U” or “-“ in the sex column of the dataset). This dataset includes the frequency of votes for the political party, as well as a column explaining from which task the data is provided. \n",
    "</div>"
   ]
  },
  {
   "cell_type": "code",
   "execution_count": 30,
   "metadata": {},
   "outputs": [
    {
     "data": {
      "text/html": [
       "<div>\n",
       "<style scoped>\n",
       "    .dataframe tbody tr th:only-of-type {\n",
       "        vertical-align: middle;\n",
       "    }\n",
       "\n",
       "    .dataframe tbody tr th {\n",
       "        vertical-align: top;\n",
       "    }\n",
       "\n",
       "    .dataframe thead th {\n",
       "        text-align: right;\n",
       "    }\n",
       "</style>\n",
       "<table border=\"1\" class=\"dataframe\">\n",
       "  <thead>\n",
       "    <tr style=\"text-align: right;\">\n",
       "      <th></th>\n",
       "      <th>Unnamed: 0</th>\n",
       "      <th>Twitter ID Information</th>\n",
       "      <th>Unnamed: 2</th>\n",
       "      <th>Unnamed: 3</th>\n",
       "      <th>Political Party Labelling</th>\n",
       "      <th>Unnamed: 5</th>\n",
       "      <th>Unnamed: 6</th>\n",
       "      <th>Unnamed: 7</th>\n",
       "      <th>Unnamed: 8</th>\n",
       "      <th>Other Info (Notes)</th>\n",
       "      <th>Unnamed: 10</th>\n",
       "      <th>Class Frequency</th>\n",
       "      <th>Unnamed: 12</th>\n",
       "      <th>Unnamed: 13</th>\n",
       "      <th>Unnamed: 14</th>\n",
       "      <th>Unnamed: 15</th>\n",
       "      <th>Unnamed: 16</th>\n",
       "      <th>Unnamed: 17</th>\n",
       "    </tr>\n",
       "  </thead>\n",
       "  <tbody>\n",
       "    <tr>\n",
       "      <th>0</th>\n",
       "      <td>NaN</td>\n",
       "      <td>Twitter ID</td>\n",
       "      <td>User Name</td>\n",
       "      <td>Sex (M/F)</td>\n",
       "      <td>SID 1</td>\n",
       "      <td>SID 2</td>\n",
       "      <td>SID 3</td>\n",
       "      <td>SID 4</td>\n",
       "      <td>SID 5</td>\n",
       "      <td>NaN</td>\n",
       "      <td>NaN</td>\n",
       "      <td>0.0</td>\n",
       "      <td>1.0</td>\n",
       "      <td>2.0</td>\n",
       "      <td>3.0</td>\n",
       "      <td>4.0</td>\n",
       "      <td>5.0</td>\n",
       "      <td>TASK</td>\n",
       "    </tr>\n",
       "    <tr>\n",
       "      <th>1</th>\n",
       "      <td>NaN</td>\n",
       "      <td>@marco_ssl</td>\n",
       "      <td>Marco_SSL</td>\n",
       "      <td>M</td>\n",
       "      <td>3</td>\n",
       "      <td>3</td>\n",
       "      <td>1</td>\n",
       "      <td>1</td>\n",
       "      <td>NaN</td>\n",
       "      <td>NaN</td>\n",
       "      <td>NaN</td>\n",
       "      <td>0.0</td>\n",
       "      <td>0.5</td>\n",
       "      <td>0.0</td>\n",
       "      <td>0.5</td>\n",
       "      <td>0.0</td>\n",
       "      <td>0.0</td>\n",
       "      <td>T2P3</td>\n",
       "    </tr>\n",
       "    <tr>\n",
       "      <th>2</th>\n",
       "      <td>NaN</td>\n",
       "      <td>@Mutaz53214</td>\n",
       "      <td>Mutaz</td>\n",
       "      <td>M</td>\n",
       "      <td>3</td>\n",
       "      <td>3</td>\n",
       "      <td>3</td>\n",
       "      <td>3</td>\n",
       "      <td>NaN</td>\n",
       "      <td>NaN</td>\n",
       "      <td>NaN</td>\n",
       "      <td>0.0</td>\n",
       "      <td>0.0</td>\n",
       "      <td>0.0</td>\n",
       "      <td>1.0</td>\n",
       "      <td>0.0</td>\n",
       "      <td>0.0</td>\n",
       "      <td>T2P3</td>\n",
       "    </tr>\n",
       "    <tr>\n",
       "      <th>3</th>\n",
       "      <td>NaN</td>\n",
       "      <td>@predieridanilo</td>\n",
       "      <td>predieri danilo</td>\n",
       "      <td>M</td>\n",
       "      <td>2</td>\n",
       "      <td>4</td>\n",
       "      <td>2</td>\n",
       "      <td>4</td>\n",
       "      <td>NaN</td>\n",
       "      <td>NaN</td>\n",
       "      <td>NaN</td>\n",
       "      <td>0.0</td>\n",
       "      <td>0.0</td>\n",
       "      <td>0.5</td>\n",
       "      <td>0.0</td>\n",
       "      <td>0.5</td>\n",
       "      <td>0.0</td>\n",
       "      <td>T2P3</td>\n",
       "    </tr>\n",
       "    <tr>\n",
       "      <th>4</th>\n",
       "      <td>NaN</td>\n",
       "      <td>@Loredan83532601</td>\n",
       "      <td>Loredana</td>\n",
       "      <td>F</td>\n",
       "      <td>1</td>\n",
       "      <td>1</td>\n",
       "      <td>3</td>\n",
       "      <td>3</td>\n",
       "      <td>NaN</td>\n",
       "      <td>NaN</td>\n",
       "      <td>NaN</td>\n",
       "      <td>0.0</td>\n",
       "      <td>0.5</td>\n",
       "      <td>0.0</td>\n",
       "      <td>0.5</td>\n",
       "      <td>0.0</td>\n",
       "      <td>0.0</td>\n",
       "      <td>T2P3</td>\n",
       "    </tr>\n",
       "  </tbody>\n",
       "</table>\n",
       "</div>"
      ],
      "text/plain": [
       "   Unnamed: 0 Twitter ID Information       Unnamed: 2 Unnamed: 3  \\\n",
       "0         NaN             Twitter ID        User Name  Sex (M/F)   \n",
       "1         NaN             @marco_ssl        Marco_SSL          M   \n",
       "2         NaN            @Mutaz53214            Mutaz          M   \n",
       "3         NaN        @predieridanilo  predieri danilo          M   \n",
       "4         NaN       @Loredan83532601         Loredana          F   \n",
       "\n",
       "  Political Party Labelling Unnamed: 5 Unnamed: 6 Unnamed: 7 Unnamed: 8  \\\n",
       "0                     SID 1      SID 2      SID 3      SID 4      SID 5   \n",
       "1                         3          3          1          1        NaN   \n",
       "2                         3          3          3          3        NaN   \n",
       "3                         2          4          2          4        NaN   \n",
       "4                         1          1          3          3        NaN   \n",
       "\n",
       "  Other Info (Notes) Unnamed: 10  Class Frequency  Unnamed: 12  Unnamed: 13  \\\n",
       "0                NaN         NaN              0.0          1.0          2.0   \n",
       "1                NaN         NaN              0.0          0.5          0.0   \n",
       "2                NaN         NaN              0.0          0.0          0.0   \n",
       "3                NaN         NaN              0.0          0.0          0.5   \n",
       "4                NaN         NaN              0.0          0.5          0.0   \n",
       "\n",
       "   Unnamed: 14  Unnamed: 15  Unnamed: 16 Unnamed: 17  \n",
       "0          3.0          4.0          5.0        TASK  \n",
       "1          0.5          0.0          0.0        T2P3  \n",
       "2          1.0          0.0          0.0        T2P3  \n",
       "3          0.0          0.5          0.0        T2P3  \n",
       "4          0.5          0.0          0.0        T2P3  "
      ]
     },
     "execution_count": 30,
     "metadata": {},
     "output_type": "execute_result"
    }
   ],
   "source": [
    "data = pd.read_excel('./LabelledAccounts.xlsx')\n",
    "data.head()"
   ]
  },
  {
   "cell_type": "markdown",
   "metadata": {},
   "source": [
    "<div style=\"text-align: justify\">\n",
    "After merging, the data was cleaned and formatted for building the Machine Learning models. We began by re-formatting the excel classification file for and dropping empty columns for ease of use. The data is now organized in 14 columns: id (set as the index of the dataset); sex (labeled with “M”, “F”, or “U” / \"-\"); sid_1, sid_2, sid_3, sid_4, sid_5 which correspond to the opinion of the ith  group member about a specific user j in (1, 2, 3, 4, 5); cls_0, cls_1, cls_2, cls_3, cls_4, cls_5 which correspond to the frequency of votes for the political party (Lega, Partito Democratico, Fratelli d’Italia, Movimento 5 Stelle and Forza Italia, respectively); and task – to keep track of where the data came from. \n",
    "</div>\n"
   ]
  },
  {
   "cell_type": "code",
   "execution_count": 31,
   "metadata": {},
   "outputs": [
    {
     "data": {
      "text/html": [
       "<div>\n",
       "<style scoped>\n",
       "    .dataframe tbody tr th:only-of-type {\n",
       "        vertical-align: middle;\n",
       "    }\n",
       "\n",
       "    .dataframe tbody tr th {\n",
       "        vertical-align: top;\n",
       "    }\n",
       "\n",
       "    .dataframe thead th {\n",
       "        text-align: right;\n",
       "    }\n",
       "</style>\n",
       "<table border=\"1\" class=\"dataframe\">\n",
       "  <thead>\n",
       "    <tr style=\"text-align: right;\">\n",
       "      <th></th>\n",
       "      <th>sex</th>\n",
       "      <th>sid_1</th>\n",
       "      <th>sid_2</th>\n",
       "      <th>sid_3</th>\n",
       "      <th>sid_4</th>\n",
       "      <th>sid_5</th>\n",
       "      <th>cls_0</th>\n",
       "      <th>cls_1</th>\n",
       "      <th>cls_2</th>\n",
       "      <th>cls_3</th>\n",
       "      <th>cls_4</th>\n",
       "      <th>cls_5</th>\n",
       "      <th>task</th>\n",
       "    </tr>\n",
       "    <tr>\n",
       "      <th>id</th>\n",
       "      <th></th>\n",
       "      <th></th>\n",
       "      <th></th>\n",
       "      <th></th>\n",
       "      <th></th>\n",
       "      <th></th>\n",
       "      <th></th>\n",
       "      <th></th>\n",
       "      <th></th>\n",
       "      <th></th>\n",
       "      <th></th>\n",
       "      <th></th>\n",
       "      <th></th>\n",
       "    </tr>\n",
       "  </thead>\n",
       "  <tbody>\n",
       "    <tr>\n",
       "      <th>@marco_ssl</th>\n",
       "      <td>M</td>\n",
       "      <td>3</td>\n",
       "      <td>3</td>\n",
       "      <td>1</td>\n",
       "      <td>1</td>\n",
       "      <td>0</td>\n",
       "      <td>0.0</td>\n",
       "      <td>0.5</td>\n",
       "      <td>0.0</td>\n",
       "      <td>0.5</td>\n",
       "      <td>0.0</td>\n",
       "      <td>0.0</td>\n",
       "      <td>T2P3</td>\n",
       "    </tr>\n",
       "    <tr>\n",
       "      <th>@Mutaz53214</th>\n",
       "      <td>M</td>\n",
       "      <td>3</td>\n",
       "      <td>3</td>\n",
       "      <td>3</td>\n",
       "      <td>3</td>\n",
       "      <td>0</td>\n",
       "      <td>0.0</td>\n",
       "      <td>0.0</td>\n",
       "      <td>0.0</td>\n",
       "      <td>1.0</td>\n",
       "      <td>0.0</td>\n",
       "      <td>0.0</td>\n",
       "      <td>T2P3</td>\n",
       "    </tr>\n",
       "    <tr>\n",
       "      <th>@predieridanilo</th>\n",
       "      <td>M</td>\n",
       "      <td>2</td>\n",
       "      <td>4</td>\n",
       "      <td>2</td>\n",
       "      <td>4</td>\n",
       "      <td>0</td>\n",
       "      <td>0.0</td>\n",
       "      <td>0.0</td>\n",
       "      <td>0.5</td>\n",
       "      <td>0.0</td>\n",
       "      <td>0.5</td>\n",
       "      <td>0.0</td>\n",
       "      <td>T2P3</td>\n",
       "    </tr>\n",
       "    <tr>\n",
       "      <th>@Loredan83532601</th>\n",
       "      <td>F</td>\n",
       "      <td>1</td>\n",
       "      <td>1</td>\n",
       "      <td>3</td>\n",
       "      <td>3</td>\n",
       "      <td>0</td>\n",
       "      <td>0.0</td>\n",
       "      <td>0.5</td>\n",
       "      <td>0.0</td>\n",
       "      <td>0.5</td>\n",
       "      <td>0.0</td>\n",
       "      <td>0.0</td>\n",
       "      <td>T2P3</td>\n",
       "    </tr>\n",
       "    <tr>\n",
       "      <th>@FbCataldo</th>\n",
       "      <td>M</td>\n",
       "      <td>1</td>\n",
       "      <td>1</td>\n",
       "      <td>1</td>\n",
       "      <td>1</td>\n",
       "      <td>0</td>\n",
       "      <td>0.0</td>\n",
       "      <td>1.0</td>\n",
       "      <td>0.0</td>\n",
       "      <td>0.0</td>\n",
       "      <td>0.0</td>\n",
       "      <td>0.0</td>\n",
       "      <td>T2P3</td>\n",
       "    </tr>\n",
       "  </tbody>\n",
       "</table>\n",
       "</div>"
      ],
      "text/plain": [
       "                 sex sid_1 sid_2 sid_3 sid_4  sid_5  cls_0  cls_1  cls_2  \\\n",
       "id                                                                         \n",
       "@marco_ssl         M     3     3     1     1      0    0.0    0.5    0.0   \n",
       "@Mutaz53214        M     3     3     3     3      0    0.0    0.0    0.0   \n",
       "@predieridanilo    M     2     4     2     4      0    0.0    0.0    0.5   \n",
       "@Loredan83532601   F     1     1     3     3      0    0.0    0.5    0.0   \n",
       "@FbCataldo         M     1     1     1     1      0    0.0    1.0    0.0   \n",
       "\n",
       "                  cls_3  cls_4  cls_5  task  \n",
       "id                                           \n",
       "@marco_ssl          0.5    0.0    0.0  T2P3  \n",
       "@Mutaz53214         1.0    0.0    0.0  T2P3  \n",
       "@predieridanilo     0.0    0.5    0.0  T2P3  \n",
       "@Loredan83532601    0.5    0.0    0.0  T2P3  \n",
       "@FbCataldo          0.0    0.0    0.0  T2P3  "
      ]
     },
     "execution_count": 31,
     "metadata": {},
     "output_type": "execute_result"
    }
   ],
   "source": [
    "data.drop(0, inplace=True)\n",
    "data.pop('Unnamed: 0')\n",
    "data.pop('Unnamed: 2')\n",
    "data.pop('Other Info (Notes)')\n",
    "data.pop('Unnamed: 10')\n",
    "\n",
    "cols = ['id', 'sex', 'sid_1', 'sid_2', 'sid_3', 'sid_4', 'sid_5', \n",
    "        'cls_0', 'cls_1', 'cls_2', 'cls_3', 'cls_4', 'cls_5', 'task']\n",
    "data.columns = cols\n",
    "\n",
    "data['sid_5'].fillna(0, inplace=True)\n",
    "data.set_index('id', inplace=True)\n",
    "\n",
    "data.head()"
   ]
  },
  {
   "cell_type": "markdown",
   "metadata": {},
   "source": [
    "<div style=\"text-align: justify\">\n",
    "Before dividing the data into a binary dataset, we had to check whether the data was error-free. After making a check for cls_1 (frequency of votes that correspond to Lega), we were able to see that there is inconsistency in the dataset, where it is unclear whether the cls columns count or give the frequency of the votes. We additionally found out that there are 963 faulty rows which do not conform to the frequency criterion (that needs to sum up to 1). Since our group built a model on a smaller sample of the data, we dropped these rows from further consideration. However, if needed, these rows can be recovered by calculating the cls columns manually from the sid_i columns (i ranging from 1-5)."
   ]
  },
  {
   "cell_type": "code",
   "execution_count": 32,
   "metadata": {},
   "outputs": [
    {
     "data": {
      "text/plain": [
       "0.00    5827\n",
       "1.00     935\n",
       "0.80     370\n",
       "0.60     169\n",
       "0.50     156\n",
       "4.00     102\n",
       "0.20      96\n",
       "0.40      70\n",
       "0.25      62\n",
       "0.75      58\n",
       "3.00      24\n",
       "2.00      20\n",
       "Name: cls_1, dtype: int64"
      ]
     },
     "execution_count": 32,
     "metadata": {},
     "output_type": "execute_result"
    }
   ],
   "source": [
    "data['cls_1'].value_counts()"
   ]
  },
  {
   "cell_type": "markdown",
   "metadata": {},
   "source": [
    "<div style=\"text-align: justify\">\n",
    "Another check that was performed is the validity of rows, which gave us a total of 6926 users to work with:"
   ]
  },
  {
   "cell_type": "code",
   "execution_count": 33,
   "metadata": {},
   "outputs": [
    {
     "name": "stdout",
     "output_type": "stream",
     "text": [
      "Users before cleaning: 7889\n",
      "Users after cleaning:6926\n"
     ]
    }
   ],
   "source": [
    "def is_row_valid(row):\n",
    "    return sum(row[\n",
    "        [f'cls_{i}' for i in range(0, 6)]\n",
    "    ]) == 1\n",
    "\n",
    "mask = data.apply(is_row_valid, axis=1)\n",
    "print(f'Users before cleaning: {len(data)}')\n",
    "data = data[mask]\n",
    "print(f'Users after cleaning:{len(data)}')"
   ]
  },
  {
   "cell_type": "markdown",
   "metadata": {},
   "source": [
    "<div style=\"text-align: justify\">\n",
    "Looking at the following table ensures us that we have more than 1000 users for each political orientation even by setting the threshold value as 1 which we will do to reduce bias:"
   ]
  },
  {
   "cell_type": "code",
   "execution_count": 34,
   "metadata": {},
   "outputs": [
    {
     "data": {
      "text/html": [
       "<div>\n",
       "<style scoped>\n",
       "    .dataframe tbody tr th:only-of-type {\n",
       "        vertical-align: middle;\n",
       "    }\n",
       "\n",
       "    .dataframe tbody tr th {\n",
       "        vertical-align: top;\n",
       "    }\n",
       "\n",
       "    .dataframe thead th {\n",
       "        text-align: right;\n",
       "    }\n",
       "</style>\n",
       "<table border=\"1\" class=\"dataframe\">\n",
       "  <thead>\n",
       "    <tr style=\"text-align: right;\">\n",
       "      <th></th>\n",
       "      <th>cls_0</th>\n",
       "      <th>cls_1</th>\n",
       "      <th>cls_2</th>\n",
       "      <th>cls_3</th>\n",
       "      <th>cls_4</th>\n",
       "      <th>cls_5</th>\n",
       "    </tr>\n",
       "  </thead>\n",
       "  <tbody>\n",
       "    <tr>\n",
       "      <th>0.00</th>\n",
       "      <td>4217.0</td>\n",
       "      <td>5450</td>\n",
       "      <td>5540</td>\n",
       "      <td>5203</td>\n",
       "      <td>6491</td>\n",
       "      <td>6608</td>\n",
       "    </tr>\n",
       "    <tr>\n",
       "      <th>0.20</th>\n",
       "      <td>79.0</td>\n",
       "      <td>74</td>\n",
       "      <td>62</td>\n",
       "      <td>49</td>\n",
       "      <td>71</td>\n",
       "      <td>186</td>\n",
       "    </tr>\n",
       "    <tr>\n",
       "      <th>0.25</th>\n",
       "      <td>2.0</td>\n",
       "      <td>62</td>\n",
       "      <td>3</td>\n",
       "      <td>64</td>\n",
       "      <td>1</td>\n",
       "      <td>10</td>\n",
       "    </tr>\n",
       "    <tr>\n",
       "      <th>0.40</th>\n",
       "      <td>32.0</td>\n",
       "      <td>58</td>\n",
       "      <td>74</td>\n",
       "      <td>98</td>\n",
       "      <td>74</td>\n",
       "      <td>18</td>\n",
       "    </tr>\n",
       "    <tr>\n",
       "      <th>0.50</th>\n",
       "      <td>NaN</td>\n",
       "      <td>156</td>\n",
       "      <td>6</td>\n",
       "      <td>155</td>\n",
       "      <td>4</td>\n",
       "      <td>4</td>\n",
       "    </tr>\n",
       "    <tr>\n",
       "      <th>0.60</th>\n",
       "      <td>34.0</td>\n",
       "      <td>104</td>\n",
       "      <td>84</td>\n",
       "      <td>42</td>\n",
       "      <td>47</td>\n",
       "      <td>14</td>\n",
       "    </tr>\n",
       "    <tr>\n",
       "      <th>0.75</th>\n",
       "      <td>NaN</td>\n",
       "      <td>58</td>\n",
       "      <td>1</td>\n",
       "      <td>61</td>\n",
       "      <td>1</td>\n",
       "      <td>3</td>\n",
       "    </tr>\n",
       "    <tr>\n",
       "      <th>0.80</th>\n",
       "      <td>10.0</td>\n",
       "      <td>49</td>\n",
       "      <td>47</td>\n",
       "      <td>183</td>\n",
       "      <td>15</td>\n",
       "      <td>5</td>\n",
       "    </tr>\n",
       "    <tr>\n",
       "      <th>1.00</th>\n",
       "      <td>2552.0</td>\n",
       "      <td>915</td>\n",
       "      <td>1109</td>\n",
       "      <td>1071</td>\n",
       "      <td>222</td>\n",
       "      <td>78</td>\n",
       "    </tr>\n",
       "  </tbody>\n",
       "</table>\n",
       "</div>"
      ],
      "text/plain": [
       "       cls_0  cls_1  cls_2  cls_3  cls_4  cls_5\n",
       "0.00  4217.0   5450   5540   5203   6491   6608\n",
       "0.20    79.0     74     62     49     71    186\n",
       "0.25     2.0     62      3     64      1     10\n",
       "0.40    32.0     58     74     98     74     18\n",
       "0.50     NaN    156      6    155      4      4\n",
       "0.60    34.0    104     84     42     47     14\n",
       "0.75     NaN     58      1     61      1      3\n",
       "0.80    10.0     49     47    183     15      5\n",
       "1.00  2552.0    915   1109   1071    222     78"
      ]
     },
     "execution_count": 34,
     "metadata": {},
     "output_type": "execute_result"
    }
   ],
   "source": [
    "data[[f'cls_{i}' for i in range(0, 6)]].apply(pd.Series.value_counts)"
   ]
  },
  {
   "cell_type": "markdown",
   "metadata": {},
   "source": [
    "<div style=\"text-align: justify\">\n",
    "After data was cleaned and a threshold of 0.95 was set, we could see that we were working with 915 supporters of Lega, 1109 of Partito Democratico, 1071 of Fratelli d’Italia, 222 of Movimento 5 Stelle, and 78 of Forza Italia, unanimously voted as members of the corresponding political party:"
   ]
  },
  {
   "cell_type": "code",
   "execution_count": 35,
   "metadata": {},
   "outputs": [
    {
     "name": "stdout",
     "output_type": "stream",
     "text": [
      "LEGA supporters: 915\n",
      "PD supporters: 1109\n",
      "FDI supporters: 1071\n",
      "M5S supporters: 222\n",
      "FI supporters: 78\n"
     ]
    }
   ],
   "source": [
    "thresh = 0.95\n",
    "\n",
    "lega_prospects = data[data['cls_1'] > thresh].reset_index()['id']\n",
    "pade_prospects = data[data['cls_2'] > thresh].reset_index()['id']\n",
    "frat_prospects = data[data['cls_3'] > thresh].reset_index()['id']\n",
    "msta_prospects = data[data['cls_4'] > thresh].reset_index()['id']\n",
    "forz_prospects = data[data['cls_5'] > thresh].reset_index()['id']\n",
    "\n",
    "prospects_list = [lega_prospects, pade_prospects, frat_prospects, msta_prospects, forz_prospects]\n",
    "print(f'LEGA supporters: {len(lega_prospects)}')\n",
    "print(f'PD supporters: {len(pade_prospects)}')\n",
    "print(f'FDI supporters: {len(frat_prospects)}')\n",
    "print(f'M5S supporters: {len(msta_prospects)}')\n",
    "print(f'FI supporters: {len(forz_prospects)}')"
   ]
  },
  {
   "cell_type": "markdown",
   "metadata": {},
   "source": [
    "<div style=\"text-align: justify\">\n",
    "Checking whether we have the necessary tweets of the corresponding users, we realized that some of them are missing and that we are dealing with a kind of name discrepancy since more than half of the users and files do not match. The dataset is now filled with 2795 users, 693 of which are supporters of Lega, 1076 of Partito Democratico, 741 of Fratelli d’Italia, 213 of Movimento 5 Stelle, and 72 of Forza Italia:"
   ]
  },
  {
   "cell_type": "code",
   "execution_count": 16,
   "metadata": {},
   "outputs": [
    {
     "data": {
      "text/plain": [
       "[693, 1076, 741, 213, 72]"
      ]
     },
     "execution_count": 16,
     "metadata": {},
     "output_type": "execute_result"
    }
   ],
   "source": [
    "from os import listdir\n",
    "\n",
    "files = [re.sub('_tweets.csv', '', file) for file in listdir('./data/tweets/')]\n",
    "[sum([True if user in files else False for user in prospects]) for prospects in prospects_list]"
   ]
  },
  {
   "cell_type": "markdown",
   "metadata": {},
   "source": [
    "<div style=\"text-align: justify\">\n",
    "For the binary classification, we take all 1076 Twitter accounts supporting Partito Democratico marked as left-wing, and a combination of 1076 right-wing affiliates from the Twitter accounts supporting Lega, Fratelli d’Italia and Forza Italia. Of course, cleaning the tweets was necessary. We decided to keep hashtags and mentions because as we saw in the initial statistics part, @matteosalvini was widely used and we thought it will help our models to better classify the users."
   ]
  },
  {
   "cell_type": "code",
   "execution_count": 17,
   "metadata": {},
   "outputs": [],
   "source": [
    "def get_and_clean_tweets(user):\n",
    "    df = pd.read_csv(f'./data/tweets/{user}_tweets.csv', header=0)\n",
    "    content = ' '.join(df['full_text'])\n",
    "    content, _ = re.subn(r'\\r', '', content)\n",
    "    content, _ = re.subn(r'\\n', '', content)\n",
    "    content, _ = re.subn(r'RT', '', content)\n",
    "    content, _ = re.subn(r'http.*?(?=\\s)', '', content)\n",
    "    content, _ = re.subn(r'…', '', content)\n",
    "    return content"
   ]
  },
  {
   "cell_type": "code",
   "execution_count": 18,
   "metadata": {},
   "outputs": [],
   "source": [
    "#To automate this process further wrap the upper in a more general function:\n",
    "def get_df(users, party, count):\n",
    "    \n",
    "    rows = []\n",
    "    counter, i = 0, 0    \n",
    "    \n",
    "    while counter<count :\n",
    "        user = users[i]\n",
    "        if user in files:\n",
    "            counter+=1\n",
    "            df = rows.append([user, party, get_and_clean_tweets(user)])\n",
    "        i+=1\n",
    "    return rows"
   ]
  },
  {
   "cell_type": "code",
   "execution_count": 19,
   "metadata": {},
   "outputs": [],
   "source": [
    "lega_tweets = get_df(lega_prospects, 1, 502)\n",
    "pade_tweets = get_df(pade_prospects, 2, 1075)\n",
    "frat_tweets = get_df(frat_prospects, 3, 502)\n",
    "msta_tweets = get_df(msta_prospects, 4, 212)\n",
    "forz_tweets = get_df(forz_prospects, 5, 71)"
   ]
  },
  {
   "cell_type": "code",
   "execution_count": 20,
   "metadata": {},
   "outputs": [],
   "source": [
    "df_lega = pd.DataFrame(lega_tweets)\n",
    "df_pade = pd.DataFrame(pade_tweets)\n",
    "df_frat = pd.DataFrame(frat_tweets)\n",
    "df_msta = pd.DataFrame(msta_tweets)\n",
    "df_forz = pd.DataFrame(forz_tweets)"
   ]
  },
  {
   "cell_type": "code",
   "execution_count": 21,
   "metadata": {},
   "outputs": [
    {
     "data": {
      "text/html": [
       "<div>\n",
       "<style scoped>\n",
       "    .dataframe tbody tr th:only-of-type {\n",
       "        vertical-align: middle;\n",
       "    }\n",
       "\n",
       "    .dataframe tbody tr th {\n",
       "        vertical-align: top;\n",
       "    }\n",
       "\n",
       "    .dataframe thead th {\n",
       "        text-align: right;\n",
       "    }\n",
       "</style>\n",
       "<table border=\"1\" class=\"dataframe\">\n",
       "  <thead>\n",
       "    <tr style=\"text-align: right;\">\n",
       "      <th></th>\n",
       "      <th>0</th>\n",
       "      <th>1</th>\n",
       "      <th>2</th>\n",
       "    </tr>\n",
       "  </thead>\n",
       "  <tbody>\n",
       "    <tr>\n",
       "      <th>0</th>\n",
       "      <td>@Nicolgentilcor4</td>\n",
       "      <td>1</td>\n",
       "      <td>@Giorgiolaporta: Lancio una proposta: se crea...</td>\n",
       "    </tr>\n",
       "    <tr>\n",
       "      <th>1</th>\n",
       "      <td>@APunginelli</td>\n",
       "      <td>1</td>\n",
       "      <td>@CieloItalia @gisellebardot Applaudiamo al gra...</td>\n",
       "    </tr>\n",
       "    <tr>\n",
       "      <th>2</th>\n",
       "      <td>@SSestesso</td>\n",
       "      <td>1</td>\n",
       "      <td>@GiorgiaMeloni Nuova #LONDONFALSFLAG Forse @Ce...</td>\n",
       "    </tr>\n",
       "    <tr>\n",
       "      <th>3</th>\n",
       "      <td>@Paolo91296530</td>\n",
       "      <td>1</td>\n",
       "      <td>@Annaelegalita ciao @Giadaforevah Brava @SaraA...</td>\n",
       "    </tr>\n",
       "    <tr>\n",
       "      <th>4</th>\n",
       "      <td>@BerselliThomas</td>\n",
       "      <td>1</td>\n",
       "      <td>@FrDelPapa @AndreaScanzi @Azione_it Datti una ...</td>\n",
       "    </tr>\n",
       "  </tbody>\n",
       "</table>\n",
       "</div>"
      ],
      "text/plain": [
       "                  0  1                                                  2\n",
       "0  @Nicolgentilcor4  1   @Giorgiolaporta: Lancio una proposta: se crea...\n",
       "1      @APunginelli  1  @CieloItalia @gisellebardot Applaudiamo al gra...\n",
       "2        @SSestesso  1  @GiorgiaMeloni Nuova #LONDONFALSFLAG Forse @Ce...\n",
       "3    @Paolo91296530  1  @Annaelegalita ciao @Giadaforevah Brava @SaraA...\n",
       "4   @BerselliThomas  1  @FrDelPapa @AndreaScanzi @Azione_it Datti una ..."
      ]
     },
     "execution_count": 21,
     "metadata": {},
     "output_type": "execute_result"
    }
   ],
   "source": [
    "clean_data = pd.concat([df_lega, df_pade, df_frat, df_forz])\n",
    "clean_data.head()"
   ]
  },
  {
   "cell_type": "markdown",
   "metadata": {},
   "source": [
    "<div style=\"text-align: justify\">\n",
    "Finally, we assign right-left label to each tweet using the following mapping: Left/0 if it is left-wing (taking 1076 Partito Democratico supporters) and Right/1 if it falls under the right-wing affiliates mentioned above (1076 right-wing affiliates). We export this .cvs file."
   ]
  },
  {
   "cell_type": "code",
   "execution_count": 22,
   "metadata": {},
   "outputs": [
    {
     "data": {
      "text/html": [
       "<div>\n",
       "<style scoped>\n",
       "    .dataframe tbody tr th:only-of-type {\n",
       "        vertical-align: middle;\n",
       "    }\n",
       "\n",
       "    .dataframe tbody tr th {\n",
       "        vertical-align: top;\n",
       "    }\n",
       "\n",
       "    .dataframe thead th {\n",
       "        text-align: right;\n",
       "    }\n",
       "</style>\n",
       "<table border=\"1\" class=\"dataframe\">\n",
       "  <thead>\n",
       "    <tr style=\"text-align: right;\">\n",
       "      <th></th>\n",
       "      <th>party</th>\n",
       "      <th>tweets</th>\n",
       "      <th>direction</th>\n",
       "    </tr>\n",
       "    <tr>\n",
       "      <th>id</th>\n",
       "      <th></th>\n",
       "      <th></th>\n",
       "      <th></th>\n",
       "    </tr>\n",
       "  </thead>\n",
       "  <tbody>\n",
       "    <tr>\n",
       "      <th>@Nicolgentilcor4</th>\n",
       "      <td>1</td>\n",
       "      <td>@Giorgiolaporta: Lancio una proposta: se crea...</td>\n",
       "      <td>1</td>\n",
       "    </tr>\n",
       "    <tr>\n",
       "      <th>@APunginelli</th>\n",
       "      <td>1</td>\n",
       "      <td>@CieloItalia @gisellebardot Applaudiamo al gra...</td>\n",
       "      <td>1</td>\n",
       "    </tr>\n",
       "    <tr>\n",
       "      <th>@SSestesso</th>\n",
       "      <td>1</td>\n",
       "      <td>@GiorgiaMeloni Nuova #LONDONFALSFLAG Forse @Ce...</td>\n",
       "      <td>1</td>\n",
       "    </tr>\n",
       "    <tr>\n",
       "      <th>@Paolo91296530</th>\n",
       "      <td>1</td>\n",
       "      <td>@Annaelegalita ciao @Giadaforevah Brava @SaraA...</td>\n",
       "      <td>1</td>\n",
       "    </tr>\n",
       "    <tr>\n",
       "      <th>@BerselliThomas</th>\n",
       "      <td>1</td>\n",
       "      <td>@FrDelPapa @AndreaScanzi @Azione_it Datti una ...</td>\n",
       "      <td>1</td>\n",
       "    </tr>\n",
       "  </tbody>\n",
       "</table>\n",
       "</div>"
      ],
      "text/plain": [
       "                  party                                             tweets  \\\n",
       "id                                                                           \n",
       "@Nicolgentilcor4      1   @Giorgiolaporta: Lancio una proposta: se crea...   \n",
       "@APunginelli          1  @CieloItalia @gisellebardot Applaudiamo al gra...   \n",
       "@SSestesso            1  @GiorgiaMeloni Nuova #LONDONFALSFLAG Forse @Ce...   \n",
       "@Paolo91296530        1  @Annaelegalita ciao @Giadaforevah Brava @SaraA...   \n",
       "@BerselliThomas       1  @FrDelPapa @AndreaScanzi @Azione_it Datti una ...   \n",
       "\n",
       "                  direction  \n",
       "id                           \n",
       "@Nicolgentilcor4          1  \n",
       "@APunginelli              1  \n",
       "@SSestesso                1  \n",
       "@Paolo91296530            1  \n",
       "@BerselliThomas           1  "
      ]
     },
     "execution_count": 22,
     "metadata": {},
     "output_type": "execute_result"
    }
   ],
   "source": [
    "cols = ['id', 'party', 'tweets']\n",
    "clean_data.columns=cols\n",
    "clean_data.set_index('id', inplace=True)\n",
    "clean_data['direction'] = clean_data['party'].map({2:0, 1:1, 3:1, 5:1})\n",
    "clean_data.head()"
   ]
  },
  {
   "cell_type": "markdown",
   "metadata": {},
   "source": [
    "This file will be the main one used for training the models."
   ]
  },
  {
   "cell_type": "code",
   "execution_count": 23,
   "metadata": {},
   "outputs": [],
   "source": [
    "clean_data.to_csv('./binary_tweets.csv', index='id')"
   ]
  },
  {
   "cell_type": "markdown",
   "metadata": {},
   "source": [
    "<div style=\"text-align: justify\">\n",
    "To avoid any future problems, the group took tweets of Movimento 5 Stelle into a separate .csv file. "
   ]
  },
  {
   "cell_type": "code",
   "execution_count": 24,
   "metadata": {},
   "outputs": [
    {
     "data": {
      "text/html": [
       "<div>\n",
       "<style scoped>\n",
       "    .dataframe tbody tr th:only-of-type {\n",
       "        vertical-align: middle;\n",
       "    }\n",
       "\n",
       "    .dataframe tbody tr th {\n",
       "        vertical-align: top;\n",
       "    }\n",
       "\n",
       "    .dataframe thead th {\n",
       "        text-align: right;\n",
       "    }\n",
       "</style>\n",
       "<table border=\"1\" class=\"dataframe\">\n",
       "  <thead>\n",
       "    <tr style=\"text-align: right;\">\n",
       "      <th></th>\n",
       "      <th>party</th>\n",
       "      <th>tweets</th>\n",
       "    </tr>\n",
       "    <tr>\n",
       "      <th>id</th>\n",
       "      <th></th>\n",
       "      <th></th>\n",
       "    </tr>\n",
       "  </thead>\n",
       "  <tbody>\n",
       "    <tr>\n",
       "      <th>0Cieri</th>\n",
       "      <td>4</td>\n",
       "      <td>@OmnibusLa7 se al mio ex fosse stato chiesto u...</td>\n",
       "    </tr>\n",
       "    <tr>\n",
       "      <th>rosalbadeangeli</th>\n",
       "      <td>4</td>\n",
       "      <td>Siamo messi veramente male per chi ha i paraoc...</td>\n",
       "    </tr>\n",
       "    <tr>\n",
       "      <th>bezzoneclaudio</th>\n",
       "      <td>4</td>\n",
       "      <td>@Marcoclari1: Se nn si fosse capito che è una...</td>\n",
       "    </tr>\n",
       "    <tr>\n",
       "      <th>LobinaLuciano</th>\n",
       "      <td>4</td>\n",
       "      <td>Open Money da Firenze il raccattatore di euro ...</td>\n",
       "    </tr>\n",
       "    <tr>\n",
       "      <th>Viviaristo1</th>\n",
       "      <td>4</td>\n",
       "      <td>@_CircoMassimo_ @NicolaGratteri grande. Parole...</td>\n",
       "    </tr>\n",
       "  </tbody>\n",
       "</table>\n",
       "</div>"
      ],
      "text/plain": [
       "                 party                                             tweets\n",
       "id                                                                       \n",
       "0Cieri               4  @OmnibusLa7 se al mio ex fosse stato chiesto u...\n",
       "rosalbadeangeli      4  Siamo messi veramente male per chi ha i paraoc...\n",
       "bezzoneclaudio       4   @Marcoclari1: Se nn si fosse capito che è una...\n",
       "LobinaLuciano        4  Open Money da Firenze il raccattatore di euro ...\n",
       "Viviaristo1          4  @_CircoMassimo_ @NicolaGratteri grande. Parole..."
      ]
     },
     "execution_count": 24,
     "metadata": {},
     "output_type": "execute_result"
    }
   ],
   "source": [
    "df_msta = pd.DataFrame(msta_tweets)\n",
    "cols = ['id', 'party', 'tweets']\n",
    "df_msta.columns = cols\n",
    "df_msta.set_index('id', inplace=True)\n",
    "df_msta.head()"
   ]
  },
  {
   "cell_type": "code",
   "execution_count": 25,
   "metadata": {},
   "outputs": [],
   "source": [
    "df_msta.to_csv('./msta_tweets.csv', index='id')"
   ]
  },
  {
   "cell_type": "markdown",
   "metadata": {},
   "source": [
    "## 3 MODEL BUILDING"
   ]
  },
  {
   "cell_type": "markdown",
   "metadata": {},
   "source": [
    "<div style=\"text-align: justify\">\n",
    "Once the data was nicely formatted, some models were built according to it. Data from users labeled by the majority as Lega, PD, FDI and FI is used to train models that predict the political orientation behind a tweet. The M5Star users were splitted into another file and not used to train the models. After building the models, at the end M5S supporters were classified by it to see whether they fell into one of the two categories."
   ]
  },
  {
   "cell_type": "code",
   "execution_count": 38,
   "metadata": {},
   "outputs": [
    {
     "data": {
      "text/html": [
       "<div>\n",
       "<style scoped>\n",
       "    .dataframe tbody tr th:only-of-type {\n",
       "        vertical-align: middle;\n",
       "    }\n",
       "\n",
       "    .dataframe tbody tr th {\n",
       "        vertical-align: top;\n",
       "    }\n",
       "\n",
       "    .dataframe thead th {\n",
       "        text-align: right;\n",
       "    }\n",
       "</style>\n",
       "<table border=\"1\" class=\"dataframe\">\n",
       "  <thead>\n",
       "    <tr style=\"text-align: right;\">\n",
       "      <th></th>\n",
       "      <th>party</th>\n",
       "      <th>tweets</th>\n",
       "      <th>direction</th>\n",
       "    </tr>\n",
       "    <tr>\n",
       "      <th>id</th>\n",
       "      <th></th>\n",
       "      <th></th>\n",
       "      <th></th>\n",
       "    </tr>\n",
       "  </thead>\n",
       "  <tbody>\n",
       "    <tr>\n",
       "      <th>@Nicolgentilcor4</th>\n",
       "      <td>1</td>\n",
       "      <td>@Giorgiolaporta: Lancio una proposta: se crea...</td>\n",
       "      <td>1</td>\n",
       "    </tr>\n",
       "    <tr>\n",
       "      <th>@APunginelli</th>\n",
       "      <td>1</td>\n",
       "      <td>@CieloItalia @gisellebardot Applaudiamo al gra...</td>\n",
       "      <td>1</td>\n",
       "    </tr>\n",
       "    <tr>\n",
       "      <th>@SSestesso</th>\n",
       "      <td>1</td>\n",
       "      <td>@GiorgiaMeloni Nuova #LONDONFALSFLAG Forse @Ce...</td>\n",
       "      <td>1</td>\n",
       "    </tr>\n",
       "    <tr>\n",
       "      <th>@Paolo91296530</th>\n",
       "      <td>1</td>\n",
       "      <td>@Annaelegalita ciao @Giadaforevah Brava @SaraA...</td>\n",
       "      <td>1</td>\n",
       "    </tr>\n",
       "    <tr>\n",
       "      <th>@BerselliThomas</th>\n",
       "      <td>1</td>\n",
       "      <td>@FrDelPapa @AndreaScanzi @Azione_it Datti una ...</td>\n",
       "      <td>1</td>\n",
       "    </tr>\n",
       "  </tbody>\n",
       "</table>\n",
       "</div>"
      ],
      "text/plain": [
       "                  party                                             tweets  \\\n",
       "id                                                                           \n",
       "@Nicolgentilcor4      1   @Giorgiolaporta: Lancio una proposta: se crea...   \n",
       "@APunginelli          1  @CieloItalia @gisellebardot Applaudiamo al gra...   \n",
       "@SSestesso            1  @GiorgiaMeloni Nuova #LONDONFALSFLAG Forse @Ce...   \n",
       "@Paolo91296530        1  @Annaelegalita ciao @Giadaforevah Brava @SaraA...   \n",
       "@BerselliThomas       1  @FrDelPapa @AndreaScanzi @Azione_it Datti una ...   \n",
       "\n",
       "                  direction  \n",
       "id                           \n",
       "@Nicolgentilcor4          1  \n",
       "@APunginelli              1  \n",
       "@SSestesso                1  \n",
       "@Paolo91296530            1  \n",
       "@BerselliThomas           1  "
      ]
     },
     "execution_count": 38,
     "metadata": {},
     "output_type": "execute_result"
    }
   ],
   "source": [
    "data = pd.read_csv('./binary_tweets.csv', index_col='id')\n",
    "data.head()"
   ]
  },
  {
   "cell_type": "markdown",
   "metadata": {},
   "source": [
    "<div style=\"text-align: justify\">\n",
    "Firstly, the users' tweets were defined as X and the user binary label direction as y. Before starting to try different models and finetuning the best, the data was split in training and test sets. We found out that a proportion of 80%-20% works fine."
   ]
  },
  {
   "cell_type": "code",
   "execution_count": 80,
   "metadata": {},
   "outputs": [],
   "source": [
    "from sklearn.model_selection import train_test_split\n",
    "\n",
    "X = data['tweets']\n",
    "y = data['direction']\n",
    "\n",
    "X_train , X_test, y_train, y_test = train_test_split(X, y, train_size=0.8, stratify=y)"
   ]
  },
  {
   "cell_type": "markdown",
   "metadata": {},
   "source": [
    "### 3.1 Model selection\n",
    "\n",
    "<br>\n",
    "\n",
    "<div style=\"text-align: justify\"> \n",
    "We begin with a model among the multitude to see which one is the most convenient for our purpose. We take into account scores as accuracy, precision and recall but also computational simplicity, in order to make the part of fine tuning easier."
   ]
  },
  {
   "cell_type": "markdown",
   "metadata": {},
   "source": [
    "#### Establishing a baseline with a Random Forest Classifier\n",
    "<br>\n",
    "<div style=\"text-align: justify\">\n",
    "Since the tweets are properly cleaned, we expected that RandomForestClassifier would set a decent baseline for more complex models to outperform. Thus, we built a model with reasonable parameters in order to make comparisons with other models. To preserve initial data we built a pipeline, step-by-step, without transforming it and finally estimated the entire pipeline's performance. The step-by-step procedure is as follows:\n",
    "<br>\n",
    "    \n",
    "1. Data needed to be transformed in numeric vectors. For this purpose TfidfVectorizer was used, which counts word occurrences among all the tweets and normalizes tweet frequencies using overall frequencies. In this way, it reduces the weight of words with no sentiment relevance, such as articles.\n",
    "2. Statistically relevant features were chosen using  χ2  distribution as a score function.\n",
    "3. A RandomForest Classifier with arbitary parameters was initialized.\n",
    "4. A pipeline was built, and the model fitted."
   ]
  },
  {
   "cell_type": "code",
   "execution_count": 51,
   "metadata": {},
   "outputs": [
    {
     "data": {
      "text/plain": [
       "Pipeline(memory=None,\n",
       "         steps=[('tfidfvectorizer',\n",
       "                 TfidfVectorizer(analyzer='word', binary=False,\n",
       "                                 decode_error='strict',\n",
       "                                 dtype=<class 'numpy.float64'>,\n",
       "                                 encoding='utf-8', input='content',\n",
       "                                 lowercase=True, max_df=0.95, max_features=None,\n",
       "                                 min_df=1, ngram_range=(1, 1), norm='l2',\n",
       "                                 preprocessor=None, smooth_idf=True,\n",
       "                                 stop_words=None, strip_accents=None,\n",
       "                                 sublinear_tf=False,\n",
       "                                 toke...\n",
       "                 RandomForestClassifier(bootstrap=True, ccp_alpha=0.0,\n",
       "                                        class_weight=None, criterion='gini',\n",
       "                                        max_depth=None, max_features='auto',\n",
       "                                        max_leaf_nodes=None, max_samples=None,\n",
       "                                        min_impurity_decrease=0.0,\n",
       "                                        min_impurity_split=None,\n",
       "                                        min_samples_leaf=1, min_samples_split=2,\n",
       "                                        min_weight_fraction_leaf=0.0,\n",
       "                                        n_estimators=300, n_jobs=None,\n",
       "                                        oob_score=False, random_state=None,\n",
       "                                        verbose=0, warm_start=False))],\n",
       "         verbose=False)"
      ]
     },
     "execution_count": 51,
     "metadata": {},
     "output_type": "execute_result"
    }
   ],
   "source": [
    "#1\n",
    "from sklearn.feature_extraction.text import TfidfVectorizer\n",
    "tfidf = TfidfVectorizer(max_df=0.95)\n",
    "\n",
    "#2\n",
    "from sklearn.feature_selection import chi2, SelectKBest\n",
    "selector = SelectKBest(chi2, k=600)\n",
    "\n",
    "#3\n",
    "from sklearn.ensemble import RandomForestClassifier\n",
    "clf = RandomForestClassifier(n_estimators=300)\n",
    "\n",
    "#4\n",
    "from sklearn.pipeline import make_pipeline\n",
    "rf_model = make_pipeline(tfidf, selector, clf)\n",
    "rf_model.fit(X_train, y_train)"
   ]
  },
  {
   "cell_type": "markdown",
   "metadata": {},
   "source": [
    "<div style=\"text-align: justify\">\n",
    "To evaluate the model, an accuracy score was used, since the dataset was equally splitted in left and right wing tweets. Additionally, we checked the confusion matrix and classification report to see in detail where the classification is more problematic. To compute these scores, we needed to predict the test set labels via the model."
   ]
  },
  {
   "cell_type": "code",
   "execution_count": 52,
   "metadata": {},
   "outputs": [
    {
     "name": "stdout",
     "output_type": "stream",
     "text": [
      "Accuracy:  0.8767441860465116\n",
      "Confusion Matrix:\n",
      " [[198  17]\n",
      " [ 36 179]]\n",
      "Classification report:\n",
      "               precision    recall  f1-score   support\n",
      "\n",
      "           0       0.85      0.92      0.88       215\n",
      "           1       0.91      0.83      0.87       215\n",
      "\n",
      "    accuracy                           0.88       430\n",
      "   macro avg       0.88      0.88      0.88       430\n",
      "weighted avg       0.88      0.88      0.88       430\n",
      "\n"
     ]
    }
   ],
   "source": [
    "from sklearn.metrics import accuracy_score, confusion_matrix, classification_report\n",
    "\n",
    "y_predicted = rf_model.predict(X_test)\n",
    "y_probas = rf_model.predict_proba(X_test)\n",
    "\n",
    "print('Accuracy: ', accuracy_score(y_test, y_predicted))\n",
    "print('Confusion Matrix:\\n', confusion_matrix(y_test, y_predicted))\n",
    "print('Classification report:\\n', classification_report(y_test, y_predicted))"
   ]
  },
  {
   "cell_type": "markdown",
   "metadata": {},
   "source": [
    "A ROC curve, to visually represents the accuracy:"
   ]
  },
  {
   "cell_type": "code",
   "execution_count": 53,
   "metadata": {},
   "outputs": [
    {
     "name": "stdout",
     "output_type": "stream",
     "text": [
      "ROC AUC=0.953\n"
     ]
    },
    {
     "data": {
      "image/png": "[encoded data removed]",
      "text/plain": [
       "<Figure size 432x288 with 1 Axes>"
      ]
     },
     "metadata": {
      "needs_background": "light"
     },
     "output_type": "display_data"
    }
   ],
   "source": [
    "from sklearn.metrics import roc_curve, roc_auc_score\n",
    "\n",
    "y_probas_right = y_probas[:, 1]\n",
    "y_probas_dummy = [0 for _ in range(len(y_probas))]\n",
    "\n",
    "right_auc = roc_auc_score(y_test, y_probas_right)\n",
    "dummy_auc = roc_auc_score(y_test, y_probas_dummy)\n",
    "\n",
    "print('ROC AUC=%.3f' % (right_auc))\n",
    "\n",
    "right_fpr, right_tpr, _ = roc_curve(y_test, y_probas_right)\n",
    "dummy_fpr, dummy_tpr, _ = roc_curve(y_test, y_probas_dummy)\n",
    "\n",
    "plt.plot(right_fpr, right_tpr, marker='.', label='Random Forest')\n",
    "plt.plot(dummy_fpr, dummy_tpr, linestyle='--', label='Dummy')\n",
    "plt.xlabel('False Positive Rate')\n",
    "plt.ylabel('True Positive Rate')\n",
    "plt.legend()\n",
    "plt.show()"
   ]
  },
  {
   "cell_type": "markdown",
   "metadata": {},
   "source": [
    "<div style=\"text-align: justify\">\n",
    "Since the results obtained were good, it was reasonable to set the RandomForestClassifier as a baseline for discarding other models."
   ]
  },
  {
   "cell_type": "markdown",
   "metadata": {},
   "source": [
    "#### Other Classifiers\n",
    "<br>\n",
    "<div style=\"text-align: justify\">\n",
    "We operated the same procedure using other models:\n",
    "\n",
    "* A single layer neural network (<b>MLPClassifier</b>), namely a stack of Perceptrons;\n",
    "* A neighbors classifier (<b>KNeighborClassifier</b>) that gives labels according to the closest neighbors;\n",
    "* Adaptive boosting (<b>ADABoostClassifier</b>) which is an ensamble of weak learners which results are bagged like in a Random Forest;\n",
    "* A naive Bayes classifier(<b>MultinomialNB</b>), that assigns labels according to an estimated likelihood function;\n",
    "* A gradient descent classifier (<b>SGDClassifier</b>), that minimizes the error function depending on the prediction and the training labels."
   ]
  },
  {
   "cell_type": "code",
   "execution_count": 34,
   "metadata": {},
   "outputs": [],
   "source": [
    "from sklearn.neural_network import MLPClassifier\n",
    "from sklearn.neighbors import KNeighborsClassifier\n",
    "from sklearn.ensemble import AdaBoostClassifier\n",
    "from sklearn.naive_bayes import MultinomialNB\n",
    "from sklearn.linear_model import SGDClassifier\n",
    "\n",
    "model_dict = {\n",
    "      'MLPClassifier': MLPClassifier(max_iter=150),\n",
    "      'AdaBoostClassifier': AdaBoostClassifier(),\n",
    "      'KNeighborsClassifier': KNeighborsClassifier(),\n",
    "      'MultinomialNB': MultinomialNB(),\n",
    "      'SGDClassifier': SGDClassifier() \n",
    "}"
   ]
  },
  {
   "cell_type": "code",
   "execution_count": 36,
   "metadata": {
    "scrolled": true
   },
   "outputs": [
    {
     "name": "stderr",
     "output_type": "stream",
     "text": [
      "C:\\ProgramData\\Anaconda3\\lib\\site-packages\\sklearn\\neural_network\\multilayer_perceptron.py:566: ConvergenceWarning: Stochastic Optimizer: Maximum iterations (150) reached and the optimization hasn't converged yet.\n",
      "  % self.max_iter, ConvergenceWarning)\n"
     ]
    },
    {
     "name": "stdout",
     "output_type": "stream",
     "text": [
      "MLPClassifier\n",
      "Accuracy: 0.8364312267657993\n",
      "Confusion matrix:\n",
      " [[229  56]\n",
      " [ 32 221]]\n",
      "Classification report:\n",
      "               precision    recall  f1-score   support\n",
      "\n",
      "           0       0.88      0.80      0.84       285\n",
      "           1       0.80      0.87      0.83       253\n",
      "\n",
      "    accuracy                           0.84       538\n",
      "   macro avg       0.84      0.84      0.84       538\n",
      "weighted avg       0.84      0.84      0.84       538\n",
      "\n",
      "\n",
      "\n",
      "\n",
      "AdaBoostClassifier\n",
      "Accuracy: 0.862453531598513\n",
      "Confusion matrix:\n",
      " [[234  47]\n",
      " [ 27 230]]\n",
      "Classification report:\n",
      "               precision    recall  f1-score   support\n",
      "\n",
      "           0       0.90      0.83      0.86       281\n",
      "           1       0.83      0.89      0.86       257\n",
      "\n",
      "    accuracy                           0.86       538\n",
      "   macro avg       0.86      0.86      0.86       538\n",
      "weighted avg       0.86      0.86      0.86       538\n",
      "\n",
      "\n",
      "\n",
      "\n",
      "KNeighborsClassifier\n",
      "Accuracy: 0.7881040892193308\n",
      "Confusion matrix:\n",
      " [[211  64]\n",
      " [ 50 213]]\n",
      "Classification report:\n",
      "               precision    recall  f1-score   support\n",
      "\n",
      "           0       0.81      0.77      0.79       275\n",
      "           1       0.77      0.81      0.79       263\n",
      "\n",
      "    accuracy                           0.79       538\n",
      "   macro avg       0.79      0.79      0.79       538\n",
      "weighted avg       0.79      0.79      0.79       538\n",
      "\n",
      "\n",
      "\n",
      "\n",
      "MultinomialNB\n",
      "Accuracy: 0.7806691449814126\n",
      "Confusion matrix:\n",
      " [[257 114]\n",
      " [  4 163]]\n",
      "Classification report:\n",
      "               precision    recall  f1-score   support\n",
      "\n",
      "           0       0.98      0.69      0.81       371\n",
      "           1       0.59      0.98      0.73       167\n",
      "\n",
      "    accuracy                           0.78       538\n",
      "   macro avg       0.79      0.83      0.77       538\n",
      "weighted avg       0.86      0.78      0.79       538\n",
      "\n",
      "\n",
      "\n",
      "\n",
      "SGDClassifier\n",
      "Accuracy: 0.8215613382899628\n",
      "Confusion matrix:\n",
      " [[248  83]\n",
      " [ 13 194]]\n",
      "Classification report:\n",
      "               precision    recall  f1-score   support\n",
      "\n",
      "           0       0.95      0.75      0.84       331\n",
      "           1       0.70      0.94      0.80       207\n",
      "\n",
      "    accuracy                           0.82       538\n",
      "   macro avg       0.83      0.84      0.82       538\n",
      "weighted avg       0.85      0.82      0.82       538\n",
      "\n",
      "\n",
      "\n",
      "\n"
     ]
    }
   ],
   "source": [
    "for name, model in model_dict.items() :\n",
    "  pipe = make_pipeline(tfidf, chi2, model)\n",
    "  pipe.fit(X_train, y_train)\n",
    "  y_predicted = pipe.predict(X_test)\n",
    "\n",
    "  print(name)\n",
    "  print('Accuracy:', accuracy_score(y_predicted, y_test))\n",
    "  print('Confusion matrix:\\n', confusion_matrix(y_predicted, y_test))\n",
    "  print('Classification report:\\n', classification_report(y_predicted, y_test))\n",
    "  print('\\n\\n')"
   ]
  },
  {
   "cell_type": "markdown",
   "metadata": {},
   "source": [
    "<div style=\"text-align: justify\">\n",
    "All models showed poor results in comparison to the results of the RandomForestClassifier, but the models with worst performance were KneighborsClassifier and MultinomialNB. We concluded that the best one was chosen as baseline after all."
   ]
  },
  {
   "cell_type": "markdown",
   "metadata": {},
   "source": [
    "### 3.2 Fine tuning\n",
    "\n",
    "<br>\n",
    "\n",
    "<div style=\"text-align: justify\"> \n",
    "After selecting the pipeline components of our model, we focused on improving their performance. This was done by removing stopwords and searching for the hyperparameters that yield best results."
   ]
  },
  {
   "cell_type": "markdown",
   "metadata": {},
   "source": [
    "### Removing stopwords\n",
    "<br>\n",
    "<div style=\"text-align: justify\">\n",
    "Even though TFIDFVectorizer does a great job in giving the right importance to words, there are others that are not used as often but are not of importance to the model. These words are called stopwords and they can be removed by using a certain library - <b>nltk</b>."
   ]
  },
  {
   "cell_type": "code",
   "execution_count": 45,
   "metadata": {},
   "outputs": [
    {
     "name": "stderr",
     "output_type": "stream",
     "text": [
      "[nltk_data] Downloading package stopwords to\n",
      "[nltk_data]     /home/danailkrzhalovski/nltk_data...\n",
      "[nltk_data]   Package stopwords is already up-to-date!\n"
     ]
    }
   ],
   "source": [
    "import nltk\n",
    "from nltk.corpus import stopwords\n",
    "\n",
    "nltk.download('stopwords')\n",
    "italian_sws = set(stopwords.words('italian'))"
   ]
  },
  {
   "cell_type": "code",
   "execution_count": 57,
   "metadata": {},
   "outputs": [
    {
     "data": {
      "text/plain": [
       "Pipeline(memory=None,\n",
       "         steps=[('vect',\n",
       "                 CountVectorizer(analyzer='word', binary=False,\n",
       "                                 decode_error='strict',\n",
       "                                 dtype=<class 'numpy.int64'>, encoding='utf-8',\n",
       "                                 input='content', lowercase=True, max_df=1.0,\n",
       "                                 max_features=None, min_df=1,\n",
       "                                 ngram_range=(1, 1), preprocessor=None,\n",
       "                                 stop_words={'a', 'abbia', 'abbiamo', 'abbiano',\n",
       "                                             'abbiate', 'ad', 'agl', 'agli',\n",
       "                                             'ai', 'al', 'all', 'alla', 'al...\n",
       "                 RandomForestClassifier(bootstrap=True, ccp_alpha=0.0,\n",
       "                                        class_weight=None, criterion='gini',\n",
       "                                        max_depth=None, max_features='auto',\n",
       "                                        max_leaf_nodes=None, max_samples=None,\n",
       "                                        min_impurity_decrease=0.0,\n",
       "                                        min_impurity_split=None,\n",
       "                                        min_samples_leaf=1, min_samples_split=2,\n",
       "                                        min_weight_fraction_leaf=0.0,\n",
       "                                        n_estimators=300, n_jobs=None,\n",
       "                                        oob_score=False, random_state=None,\n",
       "                                        verbose=0, warm_start=False))],\n",
       "         verbose=False)"
      ]
     },
     "execution_count": 57,
     "metadata": {},
     "output_type": "execute_result"
    }
   ],
   "source": [
    "from sklearn.pipeline import Pipeline\n",
    "from sklearn.feature_extraction.text import CountVectorizer, TfidfTransformer\n",
    "\n",
    "stop_model = Pipeline([('vect', CountVectorizer(stop_words=italian_sws)),\n",
    "               ('tfidf', TfidfTransformer()),\n",
    "               ('chi2', SelectKBest(chi2, k=400)),\n",
    "               ('clf', RandomForestClassifier(n_estimators=300))\n",
    "              ])\n",
    "\n",
    "stop_model.fit(X_train, y_train)"
   ]
  },
  {
   "cell_type": "markdown",
   "metadata": {},
   "source": [
    "<div style=\"text-align: justify\">\n",
    "After fitting the model using stop_words as a parameter, we checked whether the performance had improved."
   ]
  },
  {
   "cell_type": "code",
   "execution_count": 60,
   "metadata": {},
   "outputs": [
    {
     "name": "stdout",
     "output_type": "stream",
     "text": [
      "Accuracy:  0.8883720930232558\n",
      "Confusion Matrix:\n",
      " [[196  19]\n",
      " [ 29 186]]\n",
      "Classification report:\n",
      "               precision    recall  f1-score   support\n",
      "\n",
      "           0       0.87      0.91      0.89       215\n",
      "           1       0.91      0.87      0.89       215\n",
      "\n",
      "    accuracy                           0.89       430\n",
      "   macro avg       0.89      0.89      0.89       430\n",
      "weighted avg       0.89      0.89      0.89       430\n",
      "\n"
     ]
    }
   ],
   "source": [
    "y_predicted = stop_model.predict(X_test)\n",
    "\n",
    "print('Accuracy: ', accuracy_score(y_test, y_predicted))\n",
    "print('Confusion Matrix:\\n', confusion_matrix(y_test, y_predicted))\n",
    "print('Classification report:\\n', classification_report(y_test, y_predicted))"
   ]
  },
  {
   "cell_type": "markdown",
   "metadata": {},
   "source": [
    "### Hyperparameters tuning\n",
    "<br>\n",
    "<div style=\"text-align: justify\">\n",
    "To find the most suitable hyperparameters, we made use of GridSearchCV which numerically maximizes the scores on a grid of values given by the coder. The parameters we tuned are the number k of best features in SelectKBest and the number n_estimators of bagged trees in RandomForestClassifier."
   ]
  },
  {
   "cell_type": "markdown",
   "metadata": {},
   "source": [
    "#### Note:\n",
    "This step takes a long time to run. That is why we stored the results into a file called rf_gridsearch.txt which you can check to see the differences that the change of parameters introduces to the model."
   ]
  },
  {
   "cell_type": "code",
   "execution_count": null,
   "metadata": {},
   "outputs": [],
   "source": [
    "from sklearn.model_selection import GridSearchCV\n",
    "\n",
    "pipe = make_pipeline(\n",
    "    tfidf,\n",
    "    SelectKBest(),\n",
    "    RandomForestClassifier()\n",
    ")\n",
    "\n",
    "gs_model = GridSearchCV(\n",
    "    estimator=pipe,\n",
    "    param_grid={\n",
    "        'selectkbest__k': [400, 600, 800, 1000],\n",
    "        'randomforestclassifier__n_estimators': [100, 150, 200, 250, 300]\n",
    "    },\n",
    "    cv=10, n_jobs=-1, scoring='accuracy'\n",
    ")"
   ]
  },
  {
   "cell_type": "markdown",
   "metadata": {},
   "source": [
    "By looking at the rf_gridsearch.txt file, the best results we obtained for k=600 and n_estimators=300, with an accuracy of 91.16% and a balanced confusion matrix. Now we can instantiate the final model and afterwards perform a step called feature importance to speed it up for practical use. We will also use this model to predict M5S users."
   ]
  },
  {
   "cell_type": "code",
   "execution_count": 99,
   "metadata": {},
   "outputs": [
    {
     "data": {
      "text/plain": [
       "RandomForestClassifier(bootstrap=True, ccp_alpha=0.0, class_weight=None,\n",
       "                       criterion='gini', max_depth=None, max_features='auto',\n",
       "                       max_leaf_nodes=None, max_samples=None,\n",
       "                       min_impurity_decrease=0.0, min_impurity_split=None,\n",
       "                       min_samples_leaf=1, min_samples_split=2,\n",
       "                       min_weight_fraction_leaf=0.0, n_estimators=300,\n",
       "                       n_jobs=None, oob_score=False, random_state=None,\n",
       "                       verbose=0, warm_start=False)"
      ]
     },
     "execution_count": 99,
     "metadata": {},
     "output_type": "execute_result"
    }
   ],
   "source": [
    "cvec = CountVectorizer(stop_words=italian_sws)\n",
    "cvec_vals = cvec.fit_transform(X_train)\n",
    "\n",
    "tfidf = TfidfTransformer(use_idf=True)\n",
    "tfidf_vals = tfidf.fit_transform(cvec_vals)\n",
    "\n",
    "kbest = SelectKBest(chi2, k=600)\n",
    "selected = kbest.fit_transform(tfidf_vals, y_train)\n",
    "\n",
    "final_model = RandomForestClassifier(n_estimators=300)\n",
    "final_model.fit(selected, y_train)"
   ]
  },
  {
   "cell_type": "code",
   "execution_count": 100,
   "metadata": {},
   "outputs": [
    {
     "name": "stdout",
     "output_type": "stream",
     "text": [
      "Accuracy:  0.9116279069767442\n",
      "Confusion Matrix:\n",
      " [[198  17]\n",
      " [ 21 194]]\n",
      "Classification report:\n",
      "               precision    recall  f1-score   support\n",
      "\n",
      "           0       0.90      0.92      0.91       215\n",
      "           1       0.92      0.90      0.91       215\n",
      "\n",
      "    accuracy                           0.91       430\n",
      "   macro avg       0.91      0.91      0.91       430\n",
      "weighted avg       0.91      0.91      0.91       430\n",
      "\n"
     ]
    }
   ],
   "source": [
    "cvec_vals_test = cvec.transform(X_test)\n",
    "tfidf_vals_test = tfidf.transform(cvec_vals_test)\n",
    "\n",
    "sel = kbest.transform(tfidf_vals_test)\n",
    "y_predicted = final_model.predict(sel)\n",
    "\n",
    "print('Accuracy: ', accuracy_score(y_test, y_predicted))\n",
    "print('Confusion Matrix:\\n', confusion_matrix(y_test, y_predicted))\n",
    "print('Classification report:\\n', classification_report(y_test, y_predicted))"
   ]
  },
  {
   "cell_type": "markdown",
   "metadata": {},
   "source": [
    "### Feature Importance\n",
    "<br>\n",
    "\n",
    "<div style=\"text-align: justify\"> \n",
    "The goal of feature selection by feature importance is to see which features had overall the biggest impact on our model and to see if by selecting those we can optimize the model to run faster in order for it to have a bigger practical impact.\n",
    "    \n",
    "<br>  \n",
    "\n",
    "<div style=\"text-align: justify\"> \n",
    "To get the names of the most important features, each layer of the model needs to be processed. We can observe that the model correctly takes into account the significance of Matteo Salvini for deciding users political orientation. An interesting fact that arises is also the usage of emojis. One way to interpret the following plot is to see that different political subgroups have different vocabulary and usage of emojis to convey their thoughts."
   ]
  },
  {
   "cell_type": "code",
   "execution_count": 123,
   "metadata": {},
   "outputs": [],
   "source": [
    "importances = final_model.feature_importances_\n",
    "indices = np.argsort(importances)[::-1]\n",
    "\n",
    "mask = kbest.get_support()\n",
    "\n",
    "cv_feats = cvec.get_feature_names()\n",
    "np_cv_f = np.array(cv_feats)\n",
    "\n",
    "most_important = np_cv_f[mask][indices[:10]]"
   ]
  },
  {
   "cell_type": "code",
   "execution_count": 124,
   "metadata": {},
   "outputs": [
    {
     "data": {
      "image/png": "[encoded data removed]",
      "text/plain": [
       "<Figure size 432x288 with 1 Axes>"
      ]
     },
     "metadata": {
      "needs_background": "light"
     },
     "output_type": "display_data"
    }
   ],
   "source": [
    "plt.title('Feature Importances')\n",
    "plt.barh(range(len(indices[:10])), importances[indices[:10]], color='b', align='center')\n",
    "plt.yticks(range(0, len(most_important)), most_important)\n",
    "plt.xlabel('Relative Importance')\n",
    "plt.show()"
   ]
  },
  {
   "cell_type": "markdown",
   "metadata": {},
   "source": [
    "<div style=\"text-align: justify\"> \n",
    "Feature Importance isn't just about seeing how our model learns the relationships between features, but also to help us further do selection of features to optimize our model in terms of speed and sometimes accuracy. "
   ]
  },
  {
   "cell_type": "markdown",
   "metadata": {},
   "source": [
    "### 3.3 M5S Classification\n",
    "\n",
    "<br>\n",
    "\n",
    "<div style=\"text-align: justify\"> \n",
    "Since the M5S voters' data was very noisy, we excluded it from the training of the binary model. The model that follows is trained on the other parties' data and classifies M5S users' tweets."
   ]
  },
  {
   "cell_type": "code",
   "execution_count": 140,
   "metadata": {},
   "outputs": [
    {
     "data": {
      "text/html": [
       "<div>\n",
       "<style scoped>\n",
       "    .dataframe tbody tr th:only-of-type {\n",
       "        vertical-align: middle;\n",
       "    }\n",
       "\n",
       "    .dataframe tbody tr th {\n",
       "        vertical-align: top;\n",
       "    }\n",
       "\n",
       "    .dataframe thead th {\n",
       "        text-align: right;\n",
       "    }\n",
       "</style>\n",
       "<table border=\"1\" class=\"dataframe\">\n",
       "  <thead>\n",
       "    <tr style=\"text-align: right;\">\n",
       "      <th></th>\n",
       "      <th>party</th>\n",
       "      <th>tweets</th>\n",
       "    </tr>\n",
       "    <tr>\n",
       "      <th>id</th>\n",
       "      <th></th>\n",
       "      <th></th>\n",
       "    </tr>\n",
       "  </thead>\n",
       "  <tbody>\n",
       "    <tr>\n",
       "      <th>0Cieri</th>\n",
       "      <td>4</td>\n",
       "      <td>@OmnibusLa7 se al mio ex fosse stato chiesto u...</td>\n",
       "    </tr>\n",
       "    <tr>\n",
       "      <th>rosalbadeangeli</th>\n",
       "      <td>4</td>\n",
       "      <td>Siamo messi veramente male per chi ha i paraoc...</td>\n",
       "    </tr>\n",
       "    <tr>\n",
       "      <th>bezzoneclaudio</th>\n",
       "      <td>4</td>\n",
       "      <td>@Marcoclari1: Se nn si fosse capito che è una...</td>\n",
       "    </tr>\n",
       "    <tr>\n",
       "      <th>LobinaLuciano</th>\n",
       "      <td>4</td>\n",
       "      <td>Open Money da Firenze il raccattatore di euro ...</td>\n",
       "    </tr>\n",
       "    <tr>\n",
       "      <th>Viviaristo1</th>\n",
       "      <td>4</td>\n",
       "      <td>@_CircoMassimo_ @NicolaGratteri grande. Parole...</td>\n",
       "    </tr>\n",
       "  </tbody>\n",
       "</table>\n",
       "</div>"
      ],
      "text/plain": [
       "                 party                                             tweets\n",
       "id                                                                       \n",
       "0Cieri               4  @OmnibusLa7 se al mio ex fosse stato chiesto u...\n",
       "rosalbadeangeli      4  Siamo messi veramente male per chi ha i paraoc...\n",
       "bezzoneclaudio       4   @Marcoclari1: Se nn si fosse capito che è una...\n",
       "LobinaLuciano        4  Open Money da Firenze il raccattatore di euro ...\n",
       "Viviaristo1          4  @_CircoMassimo_ @NicolaGratteri grande. Parole..."
      ]
     },
     "execution_count": 140,
     "metadata": {},
     "output_type": "execute_result"
    }
   ],
   "source": [
    "mstar = pd.read_csv(\"./msta_tweets.csv\", index_col='id')\n",
    "mstar.head()"
   ]
  },
  {
   "cell_type": "code",
   "execution_count": 143,
   "metadata": {},
   "outputs": [
    {
     "data": {
      "image/png": "[encoded data removed]",
      "text/plain": [
       "<Figure size 432x288 with 1 Axes>"
      ]
     },
     "metadata": {
      "needs_background": "light"
     },
     "output_type": "display_data"
    }
   ],
   "source": [
    "mstar_test = mstar['tweets']\n",
    "mstar_cvec = cvec.transform(mstar_test)\n",
    "mstar_tfidf = tfidf.transform(mstar_cvec)\n",
    "\n",
    "mstar_predicted = final_model.predict(kbest.transform(mstar_tfidf))\n",
    "\n",
    "plt.barh(range(2), [sum(mstar_predicted), len(mstar_predicted)-sum(mstar_predicted)], color='b', align='center')\n",
    "plt.yticks([0, 1])\n",
    "plt.show()"
   ]
  },
  {
   "cell_type": "markdown",
   "metadata": {},
   "source": [
    "<div style=\"text-align: justify\"> \n",
    "From this plot we can conclude that the model classifies the m5star users overall randomly giving an aproximately 50/50 split between right and left wingers. This might suggest inconsistency in the gathered data about m5star users or just non-conformity of the party itself."
   ]
  },
  {
   "cell_type": "markdown",
   "metadata": {},
   "source": [
    "## ADDITIONAL MODELS"
   ]
  },
  {
   "cell_type": "markdown",
   "metadata": {},
   "source": [
    "### XGBoost"
   ]
  },
  {
   "cell_type": "code",
   "execution_count": 144,
   "metadata": {},
   "outputs": [
    {
     "data": {
      "text/plain": [
       "0.8813953488372093"
      ]
     },
     "execution_count": 144,
     "metadata": {},
     "output_type": "execute_result"
    }
   ],
   "source": [
    "import xgboost as xgb\n",
    "\n",
    "cvec_vals = cvec.transform(X_train)\n",
    "tfidf_vals = tfidf.transform(cvec_vals)\n",
    "\n",
    "kbest_xgb = SelectKBest(chi2, k=1000)\n",
    "selected = kbest_xgb.fit_transform(tfidf_vals, y_train)\n",
    "\n",
    "model = xgb.XGBClassifier(n_estimators=80, objective= 'binary:logistic', max_depth=4)\n",
    "model.fit(selected, y_train)\n",
    "\n",
    "cvec_vals_test = cvec.transform(X_test)\n",
    "tfidf_vals_test = tfidf.transform(cvec_vals_test)\n",
    "k_selected_test = kbest_xgb.transform(tfidf_vals_test)\n",
    "\n",
    "predictions = model.predict(k_selected_test)\n",
    "accuracy_score(y_test, predictions)"
   ]
  },
  {
   "cell_type": "markdown",
   "metadata": {},
   "source": [
    "## Determining Political Activity\n",
    "\n",
    "Before we conclude there is a key fact that has been omitted during the building of the models. Namely our models in general, don't take into consideration the fact that a user might not be politically active and does the prediction either way.\n",
    "\n",
    "This means that when it comes to using the model to predict arbitrary users from twitter we wouldn't expect it to perform well in general. That is why in order to cope with this problem we chose to develop a so to say, secondary model that will be trained to classify users as politicaly active or not.\n",
    "\n",
    "To train this model, we will use the two auxilary datasets we created (\"political.csv\", \"non-political.csv\")."
   ]
  },
  {
   "cell_type": "code",
   "execution_count": 145,
   "metadata": {},
   "outputs": [],
   "source": [
    "political = pd.read_csv('political.csv', index_col='id')\n",
    "non_political = pd.read_csv('non_political.csv', index_col='id')"
   ]
  },
  {
   "cell_type": "code",
   "execution_count": 146,
   "metadata": {},
   "outputs": [
    {
     "data": {
      "text/html": [
       "<div>\n",
       "<style scoped>\n",
       "    .dataframe tbody tr th:only-of-type {\n",
       "        vertical-align: middle;\n",
       "    }\n",
       "\n",
       "    .dataframe tbody tr th {\n",
       "        vertical-align: top;\n",
       "    }\n",
       "\n",
       "    .dataframe thead th {\n",
       "        text-align: right;\n",
       "    }\n",
       "</style>\n",
       "<table border=\"1\" class=\"dataframe\">\n",
       "  <thead>\n",
       "    <tr style=\"text-align: right;\">\n",
       "      <th></th>\n",
       "      <th>tweets</th>\n",
       "      <th>active</th>\n",
       "    </tr>\n",
       "    <tr>\n",
       "      <th>id</th>\n",
       "      <th></th>\n",
       "      <th></th>\n",
       "    </tr>\n",
       "  </thead>\n",
       "  <tbody>\n",
       "    <tr>\n",
       "      <th>irenegiolitti</th>\n",
       "      <td>@fabfazio: Di questo parliamo quando discutia...</td>\n",
       "      <td>1</td>\n",
       "    </tr>\n",
       "    <tr>\n",
       "      <th>@stefanocamattin</th>\n",
       "      <td>Telese sei penoso @matteosalvinimi Stessa facc...</td>\n",
       "      <td>1</td>\n",
       "    </tr>\n",
       "    <tr>\n",
       "      <th>swamilee</th>\n",
       "      <td>@CarolineHirons 🤣 @Germana5761 Piccola perché ...</td>\n",
       "      <td>1</td>\n",
       "    </tr>\n",
       "    <tr>\n",
       "      <th>nicolettaborett</th>\n",
       "      <td>@LegaSalvini Vogliono far chiudere altre Impre...</td>\n",
       "      <td>1</td>\n",
       "    </tr>\n",
       "    <tr>\n",
       "      <th>mauriziobuf</th>\n",
       "      <td>Vedere nascere una nuova vita é qualcosa di me...</td>\n",
       "      <td>1</td>\n",
       "    </tr>\n",
       "    <tr>\n",
       "      <th>Rangel_Cruz</th>\n",
       "      <td>@larryelder: Separated at birth?#TrumpDerange...</td>\n",
       "      <td>0</td>\n",
       "    </tr>\n",
       "    <tr>\n",
       "      <th>vilmamoronese</th>\n",
       "      <td>b'Buongiorno e buona domenica, se siete dalle ...</td>\n",
       "      <td>1</td>\n",
       "    </tr>\n",
       "    <tr>\n",
       "      <th>ivanfurlan98</th>\n",
       "      <td>@codybondarchuk: I worked at McDonald’s for t...</td>\n",
       "      <td>1</td>\n",
       "    </tr>\n",
       "    <tr>\n",
       "      <th>MatteoZero</th>\n",
       "      <td>@Internetfest: Come cambiano promozione e com...</td>\n",
       "      <td>0</td>\n",
       "    </tr>\n",
       "    <tr>\n",
       "      <th>caffiov</th>\n",
       "      <td>@fattoquotidiano E arrivata la resa dei conti ...</td>\n",
       "      <td>0</td>\n",
       "    </tr>\n",
       "    <tr>\n",
       "      <th>PierozziDaniela</th>\n",
       "      <td>@Alex00762690: Le poème, cette hésitation pro...</td>\n",
       "      <td>0</td>\n",
       "    </tr>\n",
       "    <tr>\n",
       "      <th>RadioSportiva</th>\n",
       "      <td>Tra poco tocca a voi su Sportiva: inizia Micro...</td>\n",
       "      <td>0</td>\n",
       "    </tr>\n",
       "    <tr>\n",
       "      <th>24Cultura</th>\n",
       "      <td>«Frozen 2», il ritorno di Elsa e Anna in un’av...</td>\n",
       "      <td>0</td>\n",
       "    </tr>\n",
       "    <tr>\n",
       "      <th>@acqua27</th>\n",
       "      <td>@MPSkino: #FirenzenonsilegaOnore e orgoglio a...</td>\n",
       "      <td>1</td>\n",
       "    </tr>\n",
       "    <tr>\n",
       "      <th>@irene_pirotta</th>\n",
       "      <td>@nzingaretti: Fra qualche settimana ci si pot...</td>\n",
       "      <td>1</td>\n",
       "    </tr>\n",
       "  </tbody>\n",
       "</table>\n",
       "</div>"
      ],
      "text/plain": [
       "                                                             tweets  active\n",
       "id                                                                         \n",
       "irenegiolitti      @fabfazio: Di questo parliamo quando discutia...       1\n",
       "@stefanocamattin  Telese sei penoso @matteosalvinimi Stessa facc...       1\n",
       "swamilee          @CarolineHirons 🤣 @Germana5761 Piccola perché ...       1\n",
       "nicolettaborett   @LegaSalvini Vogliono far chiudere altre Impre...       1\n",
       "mauriziobuf       Vedere nascere una nuova vita é qualcosa di me...       1\n",
       "Rangel_Cruz        @larryelder: Separated at birth?#TrumpDerange...       0\n",
       "vilmamoronese     b'Buongiorno e buona domenica, se siete dalle ...       1\n",
       "ivanfurlan98       @codybondarchuk: I worked at McDonald’s for t...       1\n",
       "MatteoZero         @Internetfest: Come cambiano promozione e com...       0\n",
       "caffiov           @fattoquotidiano E arrivata la resa dei conti ...       0\n",
       "PierozziDaniela    @Alex00762690: Le poème, cette hésitation pro...       0\n",
       "RadioSportiva     Tra poco tocca a voi su Sportiva: inizia Micro...       0\n",
       "24Cultura         «Frozen 2», il ritorno di Elsa e Anna in un’av...       0\n",
       "@acqua27           @MPSkino: #FirenzenonsilegaOnore e orgoglio a...       1\n",
       "@irene_pirotta     @nzingaretti: Fra qualche settimana ci si pot...       1"
      ]
     },
     "execution_count": 146,
     "metadata": {},
     "output_type": "execute_result"
    }
   ],
   "source": [
    "all_data = pd.concat([political, non_political])\n",
    "all_data = all_data.sample(frac=1)\n",
    "all_data.head(15)"
   ]
  },
  {
   "cell_type": "code",
   "execution_count": 147,
   "metadata": {},
   "outputs": [
    {
     "name": "stdout",
     "output_type": "stream",
     "text": [
      "X_train: 1720\n",
      "X_test: 430\n",
      "y_train: 1720\n",
      "y_test: 430\n"
     ]
    }
   ],
   "source": [
    "(X_train_political, X_test_political,\n",
    " y_train_political, y_test_political) = train_test_split(all_data['tweets'], all_data['active'], \n",
    "                                                    stratify=all_data['active'], train_size=0.8)\n",
    "\n",
    "print(f'X_train: {len(X_train)}\\nX_test: {len(X_test)}\\ny_train: {len(y_train)}\\ny_test: {len(y_test)}')"
   ]
  },
  {
   "cell_type": "code",
   "execution_count": 149,
   "metadata": {},
   "outputs": [
    {
     "data": {
      "text/plain": [
       "RandomForestClassifier(bootstrap=True, ccp_alpha=0.0, class_weight=None,\n",
       "                       criterion='gini', max_depth=None, max_features='auto',\n",
       "                       max_leaf_nodes=None, max_samples=None,\n",
       "                       min_impurity_decrease=0.0, min_impurity_split=None,\n",
       "                       min_samples_leaf=1, min_samples_split=2,\n",
       "                       min_weight_fraction_leaf=0.0, n_estimators=300,\n",
       "                       n_jobs=None, oob_score=False, random_state=None,\n",
       "                       verbose=0, warm_start=False)"
      ]
     },
     "execution_count": 149,
     "metadata": {},
     "output_type": "execute_result"
    }
   ],
   "source": [
    "cvec = CountVectorizer(stop_words=italian_sws)\n",
    "cvec_vals = cvec.fit_transform(X_train_political)\n",
    "\n",
    "tfidf = TfidfTransformer(use_idf=True)\n",
    "tfidf_vals = tfidf.fit_transform(cvec_vals)\n",
    "\n",
    "kbest = SelectKBest(chi2, k=600)\n",
    "selected = kbest.fit_transform(tfidf_vals, y_train_political)\n",
    "\n",
    "model = RandomForestClassifier(n_estimators=300)\n",
    "model.fit(selected, y_train_political)"
   ]
  },
  {
   "cell_type": "code",
   "execution_count": 150,
   "metadata": {},
   "outputs": [
    {
     "data": {
      "text/plain": [
       "0.7466960352422908"
      ]
     },
     "execution_count": 150,
     "metadata": {},
     "output_type": "execute_result"
    }
   ],
   "source": [
    "cvec_vals_test = cvec.transform(X_test_political)\n",
    "tfidf_vals_test = tfidf.transform(cvec_vals_test)\n",
    "k_selected_test = kbest.transform(tfidf_vals_test)\n",
    "\n",
    "predictions = model.predict(k_selected_test)\n",
    "accuracy_score(y_test_political, predictions)"
   ]
  },
  {
   "cell_type": "markdown",
   "metadata": {},
   "source": [
    "This is a path that needs to be considered and developed more thoroughly to have a substancial effect on the previous models. In the future it might prove to be an important addition to the political affiliation prediction process."
   ]
  },
  {
   "cell_type": "markdown",
   "metadata": {},
   "source": [
    "## 4 CONCLUSION"
   ]
  },
  {
   "cell_type": "markdown",
   "metadata": {},
   "source": [
    "<div style=\"text-align: justify\">\n",
    "For selecting of a model, we tried the following components of the pipeline that, for reasons of readibility, we didn't included entirely in this report. Nevertheless, it's interestining to mention the following:\n",
    "\n",
    "1. <b>Preprocessing tools</b>\n",
    "    * Count vectorizer\n",
    "    * TfidfVectorizer\n",
    "    * nltk stopwords library (as integration of TfidfVectorizer)\n",
    "    * FastText\n",
    "    \n",
    "<p> \n",
    "\n",
    "</p>\n",
    "\n",
    "2. <b>Feature selectors:</b>:\n",
    "    * SelectKBest\n",
    "    * SelectPercentile\n",
    "    * SelectFromModel\n",
    "    * PCA \n",
    "    \n",
    "<p> \n",
    "\n",
    "</p>\n",
    "\n",
    "3. <b>Classifiers</b>:\n",
    "    * Random Forest\n",
    "    * One-layer neural network (`MLPClassifier`)\n",
    "    * Neighbors classifier (`KNeighborClassifier`)\n",
    "    * Adaptive Boosting (`ADABoostClassifier`)\n",
    "    * Naive Bayes classifier (`MultinomialNB`)\n",
    "    * Gradient Descent classifiers (`SGDClassifier` and Light Gradient Boosting Machine)\n",
    "    * XGBoost"
   ]
  },
  {
   "cell_type": "markdown",
   "metadata": {},
   "source": [
    "<div style=\"text-align: justify\">\n",
    "The results were generated, as precedently stated, splitting the labelled users into a training set of 80% and a testing set of 20%. Between all models, the most successful one was the Random Forest Classifier, providing an accuracy of 91.16% with some fine tuning (removing stopwords, grid search on hyperparameters). The other good one has been the XGBoost, with an accuracy of 88.13%. These are the overall results:\n",
    "</div>\n",
    "\n",
    "|Model         | Accuracy | \n",
    "| :----------- | -------: | \n",
    "|RandomForest  | 0.9116|\n",
    "|ADABoost      | 0.8623|\n",
    "|MLPClassifier | 0.8364|\n",
    "|MultinomialNB | 0.7806|\n",
    "|XGBoost       | 0.8813|\n",
    "|SGDClassifier | 0.8215|"
   ]
  },
  {
   "cell_type": "markdown",
   "metadata": {},
   "source": [
    "<div style=\"text-align: justify\">\n",
    "One thing that doesn't emerge from the previous table is that the confusion matrix of all the models was unbalanced. Indeed the classification of left users tweets had in general more false negatives than the right users ones.\n",
    "The reason for this is not clear. It perhaps has to do with the fact that right wing users (especially far right) twitter accounts, were generally more repetitive and therefore easier to label.\n",
    "Also in the initial labelling of left users we encountered more difficulties. Multiple times it was necessary to roughly guesstimate their political party using only their way of speaking and preferred arguments, since, at a first sight, their twitter accounts showed a general unsatifaction about politics. On the other hand, right wing users were really simply to spot. They very often showed their appreciation for a leader like Matteo Salvini or Giorgia Meloni by directly mentioning and praising him/her, otherwise talking of common debeat themes (e.g. immigration, traditional familiy, etc.) with the usual language of propaganda."
   ]
  },
  {
   "cell_type": "markdown",
   "metadata": {},
   "source": [
    "<div style=\"text-align: justify\">    \n",
    "Obviously, these issues intrinsecally introduced a background noise that required a far more cleaning for such users to be suitable for the models. The fact of not knowing for each user their political preference, with 100% certainty, was for sure a limitation of the results for both left and right wing users. Furthermore, the limited pool of tweets, likes and follows analyzed for each user most likely introduced mistakes in the labelling, where a further investigation must have been necessary but was not feasible due to the limited amount of time."
   ]
  },
  {
   "cell_type": "markdown",
   "metadata": {},
   "source": [
    "<div style=\"text-align: justify\">    \n",
    "As previously stated, M5S wasn't taken into considiration at first due to the fact that the collected tweets were shown to be very noisy and least reliable among all other political parties. There are several possible reasons for such unreliability, perhaps the most significant one being that the users marked with M5S party were highly heterogeneous, making them hard to be labelled correctly.\n",
    "Both for this reason and due to the fact that M5S users tweets wasn't taken into account for training the models, we got an interesting result that they label M5S users tweets as right or left in a balanced fashion. It means that M5S users language, if we don't mark it as one of the two sides a priori,  is neither left nor right, but something in between."
   ]
  }
 ],
 "metadata": {
  "kernelspec": {
   "display_name": "Python 3",
   "language": "python",
   "name": "python3"
  },
  "language_info": {
   "codemirror_mode": {
    "name": "ipython",
    "version": 3
   },
   "file_extension": ".py",
   "mimetype": "text/x-python",
   "name": "python",
   "nbconvert_exporter": "python",
   "pygments_lexer": "ipython3",
   "version": "3.7.4"
  }
 },
 "nbformat": 4,
 "nbformat_minor": 2
}
